{
  "nbformat": 4,
  "nbformat_minor": 0,
  "metadata": {
    "colab": {
      "name": "ds_tutorial_dataera.ipynb",
      "provenance": [],
      "collapsed_sections": [],
      "toc_visible": true,
      "include_colab_link": true
    },
    "kernelspec": {
      "name": "python3",
      "display_name": "Python 3"
    },
    "language_info": {
      "name": "python"
    }
  },
  "cells": [
    {
      "cell_type": "markdown",
      "metadata": {
        "id": "view-in-github",
        "colab_type": "text"
      },
      "source": [
        "<a href=\"https://colab.research.google.com/github/shawnjiang1019/dataStructures/blob/main/ds_tutorial_dataera.ipynb\" target=\"_parent\"><img src=\"https://colab.research.google.com/assets/colab-badge.svg\" alt=\"Open In Colab\"/></a>"
      ]
    },
    {
      "cell_type": "markdown",
      "metadata": {
        "id": "8rfrzURCC4Nk"
      },
      "source": [
        "# Data Science Tutorial for DataEra IT Club"
      ]
    },
    {
      "cell_type": "markdown",
      "metadata": {
        "id": "JMJ3UGw2Eqn-"
      },
      "source": [
        "## Orientation"
      ]
    },
    {
      "cell_type": "markdown",
      "metadata": {
        "id": "AaNbctkGIPio"
      },
      "source": [
        "### Tool chain\n",
        "- **Colab** => online data science platform (minimal setup compared to local platform)\n",
        "- **Jupyter notebook** => file format (.ipynb) that mixes input code/text and output text/charts. Related to but different from *Jupyter Notebook*, a web app that edits/runs Jupyter notebooks\n",
        "- **Markdown** => formatted notes (file) popular among data scientists and software developers. A shorthand of HTML\n",
        "- **Python** => Top 1 programming language for data science"
      ]
    },
    {
      "cell_type": "markdown",
      "metadata": {
        "id": "WrdqA4EBisk7"
      },
      "source": [
        "### Colab orientation\n",
        "\n",
        "- **Connected runtime** (\"hosted\" for beginners)\n",
        "- **Side pane** (\"Files\" = in the runtime environment, table of contents, find & replace, code snippets, command palette, terminal...)\n",
        "- **Menu** (download .ipynb, scratch code cell, clear all outputs...)\n",
        "- **Setting** (theme, pro features...)"
      ]
    },
    {
      "cell_type": "markdown",
      "metadata": {
        "id": "tzwlEse5E-c3"
      },
      "source": [
        "### Markdown/Jupyter notebook tutorial"
      ]
    },
    {
      "cell_type": "markdown",
      "metadata": {
        "id": "QN7EqjDyJ-BW"
      },
      "source": [
        "#### Markdown cell"
      ]
    },
    {
      "cell_type": "markdown",
      "metadata": {
        "id": "soj2E9R20YKE"
      },
      "source": [
        "\n",
        "Markdown allows you to quickly type up formatted notes, such as **bold**, _italic_, ~strikethrough~ text... \n",
        "\n",
        "and bulleted (unordered) list:\n",
        "- One\n",
        "- Two\n",
        "- Three\n",
        "\n",
        "and numbered (ordered) list:\n",
        "1. One\n",
        "1. Two\n",
        "1. Three\n",
        "\n",
        "and inline code such as `my_data_set.csv`...  \n",
        "and syntax highlighted code block such as:\n",
        "```python\n",
        "# Syntax highlighted code block (part of Markdown cell, cannot run)\n",
        "print('Hello world - welcome to Data Science Summer Camp by DataEra IT Club!')\n",
        "```"
      ]
    },
    {
      "cell_type": "markdown",
      "metadata": {
        "id": "uc95-4_P0U-d"
      },
      "source": [
        "#### Code cell"
      ]
    },
    {
      "cell_type": "code",
      "metadata": {
        "colab": {
          "base_uri": "https://localhost:8080/"
        },
        "id": "L13WxbsgJ0RF",
        "outputId": "2de03b7f-e9da-4ba1-e881-ba6b76a23d88"
      },
      "source": [
        "# Code cell (can run)\n",
        "print('Hello world - welcome to Data Science Summer Camp by DataEra IT Club!')\n",
        "help(print)"
      ],
      "execution_count": 5,
      "outputs": [
        {
          "output_type": "stream",
          "text": [
            "Hello world - welcome to Data Science Summer Camp by DataEra IT Club!\n",
            "Help on built-in function print in module builtins:\n",
            "\n",
            "print(...)\n",
            "    print(value, ..., sep=' ', end='\\n', file=sys.stdout, flush=False)\n",
            "    \n",
            "    Prints the values to a stream, or to sys.stdout by default.\n",
            "    Optional keyword arguments:\n",
            "    file:  a file-like object (stream); defaults to the current sys.stdout.\n",
            "    sep:   string inserted between values, default a space.\n",
            "    end:   string appended after the last value, default a newline.\n",
            "    flush: whether to forcibly flush the stream.\n",
            "\n"
          ],
          "name": "stdout"
        }
      ]
    },
    {
      "cell_type": "code",
      "metadata": {
        "id": "B5Zd6fSYJth8",
        "colab": {
          "base_uri": "https://localhost:8080/",
          "height": 38
        },
        "outputId": "8824f63d-6eb3-4157-b9b8-75112b741140"
      },
      "source": [
        "# \"Magic\" cell (code cell with special predefined commands) -- HTML\n",
        "%%html\n",
        "<marquee direction='left'; style='width: 30%; color: blue;'><b>Hello world - welcome to Data Science Summer Camp by DataEra IT Club!</b></marquee>"
      ],
      "execution_count": 7,
      "outputs": [
        {
          "output_type": "display_data",
          "data": {
            "text/html": [
              "<marquee direction='left'; style='width: 30%; color: blue;'><b>Hello world - welcome to Data Science Summer Camp by DataEra IT Club!</b></marquee>"
            ],
            "text/plain": [
              "<IPython.core.display.HTML object>"
            ]
          },
          "metadata": {
            "tags": []
          }
        }
      ]
    },
    {
      "cell_type": "code",
      "metadata": {
        "id": "xSymIEEBMITh",
        "colab": {
          "base_uri": "https://localhost:8080/"
        },
        "outputId": "4c5172f1-b2c5-49e4-886c-fe2a5a8937fc"
      },
      "source": [
        "# \"Magic\" cell -- names in current name space\n",
        "%whos"
      ],
      "execution_count": 8,
      "outputs": [
        {
          "output_type": "stream",
          "text": [
            "Interactive namespace is empty.\n"
          ],
          "name": "stdout"
        }
      ]
    },
    {
      "cell_type": "code",
      "metadata": {
        "colab": {
          "base_uri": "https://localhost:8080/"
        },
        "id": "BJKvAndXLHbd",
        "outputId": "55c4d571-df00-4bab-e2c6-38f8f2c27736"
      },
      "source": [
        "# \"Magic\" cell -- shell command (to show Colab's OS info)\n",
        "!uname -a"
      ],
      "execution_count": 9,
      "outputs": [
        {
          "output_type": "stream",
          "text": [
            "Linux 7f991ea55573 5.4.104+ #1 SMP Sat Jun 5 09:50:34 PDT 2021 x86_64 x86_64 x86_64 GNU/Linux\n"
          ],
          "name": "stdout"
        }
      ]
    },
    {
      "cell_type": "markdown",
      "metadata": {
        "id": "KTTsn0Czkcek"
      },
      "source": [
        "### Hands-on time"
      ]
    },
    {
      "cell_type": "markdown",
      "metadata": {
        "id": "x6SimzFlkhMA"
      },
      "source": [
        "_(break for info digestion / hands-on exercise)_"
      ]
    },
    {
      "cell_type": "markdown",
      "metadata": {
        "id": "8QCWnLcZFEsQ"
      },
      "source": [
        "## Python demos"
      ]
    },
    {
      "cell_type": "markdown",
      "metadata": {
        "id": "PUnBrEJyFMC5"
      },
      "source": [
        "### Prep"
      ]
    },
    {
      "cell_type": "markdown",
      "metadata": {
        "id": "Y58h_eRG0kiL"
      },
      "source": [
        "#### Set up work files/runtime\n"
      ]
    },
    {
      "cell_type": "markdown",
      "metadata": {
        "id": "fqk_lsPk0pvr"
      },
      "source": [
        "- Use \"File\" > \"Save a copy in Drive\" to keep a local copy\n",
        "- Upload CSV data file\n",
        "- Connect to hosted runtime"
      ]
    },
    {
      "cell_type": "markdown",
      "metadata": {
        "id": "TTFcwj2O0rhE"
      },
      "source": [
        "#### Import packages & define custom functions"
      ]
    },
    {
      "cell_type": "code",
      "metadata": {
        "id": "qyO8r40fScJ0"
      },
      "source": [
        "# Import packages & define custom functions\n",
        "import pandas as pd              # Data manipulation must-have -- pandas package (implicitly relies on numpy package)\n",
        "from scipy import stats          # Statistics & basic ML packages\n",
        "# from bokeh.plotting import figure, show\n",
        "# from bokeh.io import output_notebook\n",
        "# from bokeh.charts import BoxPlot, output_file, show\n",
        "\n",
        "from IPython.display import Markdown, display  # Define own function to print Markdown text\n",
        "def printmd(string):\n",
        "    display(Markdown(string))"
      ],
      "execution_count": null,
      "outputs": []
    },
    {
      "cell_type": "markdown",
      "metadata": {
        "id": "lFvtI0Vi0yKs"
      },
      "source": [
        "#### Read & profile data"
      ]
    },
    {
      "cell_type": "code",
      "metadata": {
        "colab": {
          "base_uri": "https://localhost:8080/",
          "height": 666
        },
        "id": "VNbzy-HnDB3b",
        "outputId": "0b3fc26e-736c-4639-e0ec-aff80a25f126"
      },
      "source": [
        "# Read & profile data\n",
        "%unload_ext google.colab.data_table\n",
        "df = pd.read_csv('data_set_workout.csv')  # Upload data file before using. Will be erased after session expiry\n",
        "df.info()\n",
        "df.head(-1)  # head() defaults to 5 rows. Also there is tail()"
      ],
      "execution_count": null,
      "outputs": [
        {
          "output_type": "stream",
          "text": [
            "The google.colab.data_table extension is not loaded.\n",
            "<class 'pandas.core.frame.DataFrame'>\n",
            "RangeIndex: 163 entries, 0 to 162\n",
            "Data columns (total 6 columns):\n",
            " #   Column           Non-Null Count  Dtype  \n",
            "---  ------           --------------  -----  \n",
            " 0   Duration         163 non-null    int64  \n",
            " 1   Average_Pulse    163 non-null    int64  \n",
            " 2   Max_Pulse        163 non-null    int64  \n",
            " 3   Calorie_Burnage  163 non-null    int64  \n",
            " 4   Hours_Work       163 non-null    float64\n",
            " 5   Hours_Sleep      163 non-null    float64\n",
            "dtypes: float64(2), int64(4)\n",
            "memory usage: 7.8 KB\n"
          ],
          "name": "stdout"
        },
        {
          "output_type": "execute_result",
          "data": {
            "text/html": [
              "<div>\n",
              "<style scoped>\n",
              "    .dataframe tbody tr th:only-of-type {\n",
              "        vertical-align: middle;\n",
              "    }\n",
              "\n",
              "    .dataframe tbody tr th {\n",
              "        vertical-align: top;\n",
              "    }\n",
              "\n",
              "    .dataframe thead th {\n",
              "        text-align: right;\n",
              "    }\n",
              "</style>\n",
              "<table border=\"1\" class=\"dataframe\">\n",
              "  <thead>\n",
              "    <tr style=\"text-align: right;\">\n",
              "      <th></th>\n",
              "      <th>Duration</th>\n",
              "      <th>Average_Pulse</th>\n",
              "      <th>Max_Pulse</th>\n",
              "      <th>Calorie_Burnage</th>\n",
              "      <th>Hours_Work</th>\n",
              "      <th>Hours_Sleep</th>\n",
              "    </tr>\n",
              "  </thead>\n",
              "  <tbody>\n",
              "    <tr>\n",
              "      <th>0</th>\n",
              "      <td>60</td>\n",
              "      <td>110</td>\n",
              "      <td>130</td>\n",
              "      <td>409</td>\n",
              "      <td>0.0</td>\n",
              "      <td>8.0</td>\n",
              "    </tr>\n",
              "    <tr>\n",
              "      <th>1</th>\n",
              "      <td>60</td>\n",
              "      <td>117</td>\n",
              "      <td>145</td>\n",
              "      <td>479</td>\n",
              "      <td>0.0</td>\n",
              "      <td>8.0</td>\n",
              "    </tr>\n",
              "    <tr>\n",
              "      <th>2</th>\n",
              "      <td>60</td>\n",
              "      <td>103</td>\n",
              "      <td>135</td>\n",
              "      <td>340</td>\n",
              "      <td>8.0</td>\n",
              "      <td>7.5</td>\n",
              "    </tr>\n",
              "    <tr>\n",
              "      <th>3</th>\n",
              "      <td>45</td>\n",
              "      <td>109</td>\n",
              "      <td>175</td>\n",
              "      <td>282</td>\n",
              "      <td>8.0</td>\n",
              "      <td>8.0</td>\n",
              "    </tr>\n",
              "    <tr>\n",
              "      <th>4</th>\n",
              "      <td>45</td>\n",
              "      <td>117</td>\n",
              "      <td>148</td>\n",
              "      <td>406</td>\n",
              "      <td>0.0</td>\n",
              "      <td>6.5</td>\n",
              "    </tr>\n",
              "    <tr>\n",
              "      <th>...</th>\n",
              "      <td>...</td>\n",
              "      <td>...</td>\n",
              "      <td>...</td>\n",
              "      <td>...</td>\n",
              "      <td>...</td>\n",
              "      <td>...</td>\n",
              "    </tr>\n",
              "    <tr>\n",
              "      <th>157</th>\n",
              "      <td>45</td>\n",
              "      <td>100</td>\n",
              "      <td>140</td>\n",
              "      <td>280</td>\n",
              "      <td>0.0</td>\n",
              "      <td>7.0</td>\n",
              "    </tr>\n",
              "    <tr>\n",
              "      <th>158</th>\n",
              "      <td>60</td>\n",
              "      <td>105</td>\n",
              "      <td>140</td>\n",
              "      <td>290</td>\n",
              "      <td>7.0</td>\n",
              "      <td>8.0</td>\n",
              "    </tr>\n",
              "    <tr>\n",
              "      <th>159</th>\n",
              "      <td>60</td>\n",
              "      <td>110</td>\n",
              "      <td>145</td>\n",
              "      <td>300</td>\n",
              "      <td>7.0</td>\n",
              "      <td>8.0</td>\n",
              "    </tr>\n",
              "    <tr>\n",
              "      <th>160</th>\n",
              "      <td>60</td>\n",
              "      <td>115</td>\n",
              "      <td>145</td>\n",
              "      <td>310</td>\n",
              "      <td>8.0</td>\n",
              "      <td>8.0</td>\n",
              "    </tr>\n",
              "    <tr>\n",
              "      <th>161</th>\n",
              "      <td>75</td>\n",
              "      <td>120</td>\n",
              "      <td>150</td>\n",
              "      <td>320</td>\n",
              "      <td>0.0</td>\n",
              "      <td>8.0</td>\n",
              "    </tr>\n",
              "  </tbody>\n",
              "</table>\n",
              "<p>162 rows × 6 columns</p>\n",
              "</div>"
            ],
            "text/plain": [
              "     Duration  Average_Pulse  ...  Hours_Work  Hours_Sleep\n",
              "0          60            110  ...         0.0          8.0\n",
              "1          60            117  ...         0.0          8.0\n",
              "2          60            103  ...         8.0          7.5\n",
              "3          45            109  ...         8.0          8.0\n",
              "4          45            117  ...         0.0          6.5\n",
              "..        ...            ...  ...         ...          ...\n",
              "157        45            100  ...         0.0          7.0\n",
              "158        60            105  ...         7.0          8.0\n",
              "159        60            110  ...         7.0          8.0\n",
              "160        60            115  ...         8.0          8.0\n",
              "161        75            120  ...         0.0          8.0\n",
              "\n",
              "[162 rows x 6 columns]"
            ]
          },
          "metadata": {
            "tags": []
          },
          "execution_count": 38
        }
      ]
    },
    {
      "cell_type": "code",
      "metadata": {
        "colab": {
          "base_uri": "https://localhost:8080/",
          "height": 623
        },
        "id": "S8i6UTgMj6Gr",
        "outputId": "ea682569-ac11-4fd2-8a4c-9e9d4e20e923"
      },
      "source": [
        "%load_ext google.colab.data_table \n",
        "df"
      ],
      "execution_count": null,
      "outputs": [
        {
          "output_type": "execute_result",
          "data": {
            "application/vnd.google.colaboratory.module+javascript": "\n      import \"https://ssl.gstatic.com/colaboratory/data_table/a6224c040fa35dcf/data_table.js\";\n\n      window.createDataTable({\n        data: [[{\n            'v': 0,\n            'f': \"0\",\n        },\n{\n            'v': 60,\n            'f': \"60\",\n        },\n{\n            'v': 110,\n            'f': \"110\",\n        },\n{\n            'v': 130,\n            'f': \"130\",\n        },\n{\n            'v': 409,\n            'f': \"409\",\n        },\n{\n            'v': 0.0,\n            'f': \"0.0\",\n        },\n{\n            'v': 8.0,\n            'f': \"8.0\",\n        }],\n [{\n            'v': 1,\n            'f': \"1\",\n        },\n{\n            'v': 60,\n            'f': \"60\",\n        },\n{\n            'v': 117,\n            'f': \"117\",\n        },\n{\n            'v': 145,\n            'f': \"145\",\n        },\n{\n            'v': 479,\n            'f': \"479\",\n        },\n{\n            'v': 0.0,\n            'f': \"0.0\",\n        },\n{\n            'v': 8.0,\n            'f': \"8.0\",\n        }],\n [{\n            'v': 2,\n            'f': \"2\",\n        },\n{\n            'v': 60,\n            'f': \"60\",\n        },\n{\n            'v': 103,\n            'f': \"103\",\n        },\n{\n            'v': 135,\n            'f': \"135\",\n        },\n{\n            'v': 340,\n            'f': \"340\",\n        },\n{\n            'v': 8.0,\n            'f': \"8.0\",\n        },\n{\n            'v': 7.5,\n            'f': \"7.5\",\n        }],\n [{\n            'v': 3,\n            'f': \"3\",\n        },\n{\n            'v': 45,\n            'f': \"45\",\n        },\n{\n            'v': 109,\n            'f': \"109\",\n        },\n{\n            'v': 175,\n            'f': \"175\",\n        },\n{\n            'v': 282,\n            'f': \"282\",\n        },\n{\n            'v': 8.0,\n            'f': \"8.0\",\n        },\n{\n            'v': 8.0,\n            'f': \"8.0\",\n        }],\n [{\n            'v': 4,\n            'f': \"4\",\n        },\n{\n            'v': 45,\n            'f': \"45\",\n        },\n{\n            'v': 117,\n            'f': \"117\",\n        },\n{\n            'v': 148,\n            'f': \"148\",\n        },\n{\n            'v': 406,\n            'f': \"406\",\n        },\n{\n            'v': 0.0,\n            'f': \"0.0\",\n        },\n{\n            'v': 6.5,\n            'f': \"6.5\",\n        }],\n [{\n            'v': 5,\n            'f': \"5\",\n        },\n{\n            'v': 60,\n            'f': \"60\",\n        },\n{\n            'v': 102,\n            'f': \"102\",\n        },\n{\n            'v': 127,\n            'f': \"127\",\n        },\n{\n            'v': 300,\n            'f': \"300\",\n        },\n{\n            'v': 0.0,\n            'f': \"0.0\",\n        },\n{\n            'v': 7.5,\n            'f': \"7.5\",\n        }],\n [{\n            'v': 6,\n            'f': \"6\",\n        },\n{\n            'v': 60,\n            'f': \"60\",\n        },\n{\n            'v': 110,\n            'f': \"110\",\n        },\n{\n            'v': 136,\n            'f': \"136\",\n        },\n{\n            'v': 374,\n            'f': \"374\",\n        },\n{\n            'v': 0.0,\n            'f': \"0.0\",\n        },\n{\n            'v': 7.5,\n            'f': \"7.5\",\n        }],\n [{\n            'v': 7,\n            'f': \"7\",\n        },\n{\n            'v': 45,\n            'f': \"45\",\n        },\n{\n            'v': 104,\n            'f': \"104\",\n        },\n{\n            'v': 134,\n            'f': \"134\",\n        },\n{\n            'v': 253,\n            'f': \"253\",\n        },\n{\n            'v': 0.0,\n            'f': \"0.0\",\n        },\n{\n            'v': 9.0,\n            'f': \"9.0\",\n        }],\n [{\n            'v': 8,\n            'f': \"8\",\n        },\n{\n            'v': 30,\n            'f': \"30\",\n        },\n{\n            'v': 109,\n            'f': \"109\",\n        },\n{\n            'v': 133,\n            'f': \"133\",\n        },\n{\n            'v': 195,\n            'f': \"195\",\n        },\n{\n            'v': 8.0,\n            'f': \"8.0\",\n        },\n{\n            'v': 8.0,\n            'f': \"8.0\",\n        }],\n [{\n            'v': 9,\n            'f': \"9\",\n        },\n{\n            'v': 60,\n            'f': \"60\",\n        },\n{\n            'v': 98,\n            'f': \"98\",\n        },\n{\n            'v': 124,\n            'f': \"124\",\n        },\n{\n            'v': 269,\n            'f': \"269\",\n        },\n{\n            'v': 7.5,\n            'f': \"7.5\",\n        },\n{\n            'v': 8.0,\n            'f': \"8.0\",\n        }],\n [{\n            'v': 10,\n            'f': \"10\",\n        },\n{\n            'v': 60,\n            'f': \"60\",\n        },\n{\n            'v': 103,\n            'f': \"103\",\n        },\n{\n            'v': 147,\n            'f': \"147\",\n        },\n{\n            'v': 329,\n            'f': \"329\",\n        },\n{\n            'v': 8.0,\n            'f': \"8.0\",\n        },\n{\n            'v': 7.0,\n            'f': \"7.0\",\n        }],\n [{\n            'v': 11,\n            'f': \"11\",\n        },\n{\n            'v': 60,\n            'f': \"60\",\n        },\n{\n            'v': 100,\n            'f': \"100\",\n        },\n{\n            'v': 120,\n            'f': \"120\",\n        },\n{\n            'v': 250,\n            'f': \"250\",\n        },\n{\n            'v': 0.0,\n            'f': \"0.0\",\n        },\n{\n            'v': 5.0,\n            'f': \"5.0\",\n        }],\n [{\n            'v': 12,\n            'f': \"12\",\n        },\n{\n            'v': 60,\n            'f': \"60\",\n        },\n{\n            'v': 106,\n            'f': \"106\",\n        },\n{\n            'v': 128,\n            'f': \"128\",\n        },\n{\n            'v': 345,\n            'f': \"345\",\n        },\n{\n            'v': 8.5,\n            'f': \"8.5\",\n        },\n{\n            'v': 7.5,\n            'f': \"7.5\",\n        }],\n [{\n            'v': 13,\n            'f': \"13\",\n        },\n{\n            'v': 60,\n            'f': \"60\",\n        },\n{\n            'v': 104,\n            'f': \"104\",\n        },\n{\n            'v': 132,\n            'f': \"132\",\n        },\n{\n            'v': 379,\n            'f': \"379\",\n        },\n{\n            'v': 8.5,\n            'f': \"8.5\",\n        },\n{\n            'v': 7.5,\n            'f': \"7.5\",\n        }],\n [{\n            'v': 14,\n            'f': \"14\",\n        },\n{\n            'v': 60,\n            'f': \"60\",\n        },\n{\n            'v': 98,\n            'f': \"98\",\n        },\n{\n            'v': 123,\n            'f': \"123\",\n        },\n{\n            'v': 275,\n            'f': \"275\",\n        },\n{\n            'v': 9.0,\n            'f': \"9.0\",\n        },\n{\n            'v': 7.0,\n            'f': \"7.0\",\n        }],\n [{\n            'v': 15,\n            'f': \"15\",\n        },\n{\n            'v': 60,\n            'f': \"60\",\n        },\n{\n            'v': 98,\n            'f': \"98\",\n        },\n{\n            'v': 120,\n            'f': \"120\",\n        },\n{\n            'v': 215,\n            'f': \"215\",\n        },\n{\n            'v': 6.5,\n            'f': \"6.5\",\n        },\n{\n            'v': 7.0,\n            'f': \"7.0\",\n        }],\n [{\n            'v': 16,\n            'f': \"16\",\n        },\n{\n            'v': 60,\n            'f': \"60\",\n        },\n{\n            'v': 100,\n            'f': \"100\",\n        },\n{\n            'v': 120,\n            'f': \"120\",\n        },\n{\n            'v': 300,\n            'f': \"300\",\n        },\n{\n            'v': 9.0,\n            'f': \"9.0\",\n        },\n{\n            'v': 8.0,\n            'f': \"8.0\",\n        }],\n [{\n            'v': 17,\n            'f': \"17\",\n        },\n{\n            'v': 45,\n            'f': \"45\",\n        },\n{\n            'v': 90,\n            'f': \"90\",\n        },\n{\n            'v': 112,\n            'f': \"112\",\n        },\n{\n            'v': 180,\n            'f': \"180\",\n        },\n{\n            'v': 8.0,\n            'f': \"8.0\",\n        },\n{\n            'v': 8.0,\n            'f': \"8.0\",\n        }],\n [{\n            'v': 18,\n            'f': \"18\",\n        },\n{\n            'v': 60,\n            'f': \"60\",\n        },\n{\n            'v': 103,\n            'f': \"103\",\n        },\n{\n            'v': 123,\n            'f': \"123\",\n        },\n{\n            'v': 323,\n            'f': \"323\",\n        },\n{\n            'v': 8.0,\n            'f': \"8.0\",\n        },\n{\n            'v': 8.0,\n            'f': \"8.0\",\n        }],\n [{\n            'v': 19,\n            'f': \"19\",\n        },\n{\n            'v': 45,\n            'f': \"45\",\n        },\n{\n            'v': 97,\n            'f': \"97\",\n        },\n{\n            'v': 125,\n            'f': \"125\",\n        },\n{\n            'v': 243,\n            'f': \"243\",\n        },\n{\n            'v': 8.0,\n            'f': \"8.0\",\n        },\n{\n            'v': 7.0,\n            'f': \"7.0\",\n        }],\n [{\n            'v': 20,\n            'f': \"20\",\n        },\n{\n            'v': 60,\n            'f': \"60\",\n        },\n{\n            'v': 108,\n            'f': \"108\",\n        },\n{\n            'v': 131,\n            'f': \"131\",\n        },\n{\n            'v': 364,\n            'f': \"364\",\n        },\n{\n            'v': 8.0,\n            'f': \"8.0\",\n        },\n{\n            'v': 7.0,\n            'f': \"7.0\",\n        }],\n [{\n            'v': 21,\n            'f': \"21\",\n        },\n{\n            'v': 45,\n            'f': \"45\",\n        },\n{\n            'v': 100,\n            'f': \"100\",\n        },\n{\n            'v': 119,\n            'f': \"119\",\n        },\n{\n            'v': 282,\n            'f': \"282\",\n        },\n{\n            'v': 0.0,\n            'f': \"0.0\",\n        },\n{\n            'v': 7.0,\n            'f': \"7.0\",\n        }],\n [{\n            'v': 22,\n            'f': \"22\",\n        },\n{\n            'v': 60,\n            'f': \"60\",\n        },\n{\n            'v': 130,\n            'f': \"130\",\n        },\n{\n            'v': 101,\n            'f': \"101\",\n        },\n{\n            'v': 300,\n            'f': \"300\",\n        },\n{\n            'v': 8.0,\n            'f': \"8.0\",\n        },\n{\n            'v': 7.0,\n            'f': \"7.0\",\n        }],\n [{\n            'v': 23,\n            'f': \"23\",\n        },\n{\n            'v': 45,\n            'f': \"45\",\n        },\n{\n            'v': 105,\n            'f': \"105\",\n        },\n{\n            'v': 132,\n            'f': \"132\",\n        },\n{\n            'v': 246,\n            'f': \"246\",\n        },\n{\n            'v': 0.0,\n            'f': \"0.0\",\n        },\n{\n            'v': 8.0,\n            'f': \"8.0\",\n        }],\n [{\n            'v': 24,\n            'f': \"24\",\n        },\n{\n            'v': 60,\n            'f': \"60\",\n        },\n{\n            'v': 102,\n            'f': \"102\",\n        },\n{\n            'v': 126,\n            'f': \"126\",\n        },\n{\n            'v': 334,\n            'f': \"334\",\n        },\n{\n            'v': 8.0,\n            'f': \"8.0\",\n        },\n{\n            'v': 8.0,\n            'f': \"8.0\",\n        }],\n [{\n            'v': 25,\n            'f': \"25\",\n        },\n{\n            'v': 60,\n            'f': \"60\",\n        },\n{\n            'v': 100,\n            'f': \"100\",\n        },\n{\n            'v': 120,\n            'f': \"120\",\n        },\n{\n            'v': 250,\n            'f': \"250\",\n        },\n{\n            'v': 8.0,\n            'f': \"8.0\",\n        },\n{\n            'v': 7.0,\n            'f': \"7.0\",\n        }],\n [{\n            'v': 26,\n            'f': \"26\",\n        },\n{\n            'v': 60,\n            'f': \"60\",\n        },\n{\n            'v': 92,\n            'f': \"92\",\n        },\n{\n            'v': 118,\n            'f': \"118\",\n        },\n{\n            'v': 241,\n            'f': \"241\",\n        },\n{\n            'v': 7.0,\n            'f': \"7.0\",\n        },\n{\n            'v': 6.0,\n            'f': \"6.0\",\n        }],\n [{\n            'v': 27,\n            'f': \"27\",\n        },\n{\n            'v': 60,\n            'f': \"60\",\n        },\n{\n            'v': 103,\n            'f': \"103\",\n        },\n{\n            'v': 132,\n            'f': \"132\",\n        },\n{\n            'v': 353,\n            'f': \"353\",\n        },\n{\n            'v': 9.0,\n            'f': \"9.0\",\n        },\n{\n            'v': 8.5,\n            'f': \"8.5\",\n        }],\n [{\n            'v': 28,\n            'f': \"28\",\n        },\n{\n            'v': 60,\n            'f': \"60\",\n        },\n{\n            'v': 100,\n            'f': \"100\",\n        },\n{\n            'v': 132,\n            'f': \"132\",\n        },\n{\n            'v': 280,\n            'f': \"280\",\n        },\n{\n            'v': 3.0,\n            'f': \"3.0\",\n        },\n{\n            'v': 8.0,\n            'f': \"8.0\",\n        }],\n [{\n            'v': 29,\n            'f': \"29\",\n        },\n{\n            'v': 60,\n            'f': \"60\",\n        },\n{\n            'v': 102,\n            'f': \"102\",\n        },\n{\n            'v': 129,\n            'f': \"129\",\n        },\n{\n            'v': 380,\n            'f': \"380\",\n        },\n{\n            'v': 3.0,\n            'f': \"3.0\",\n        },\n{\n            'v': 8.0,\n            'f': \"8.0\",\n        }],\n [{\n            'v': 30,\n            'f': \"30\",\n        },\n{\n            'v': 60,\n            'f': \"60\",\n        },\n{\n            'v': 92,\n            'f': \"92\",\n        },\n{\n            'v': 115,\n            'f': \"115\",\n        },\n{\n            'v': 243,\n            'f': \"243\",\n        },\n{\n            'v': 7.5,\n            'f': \"7.5\",\n        },\n{\n            'v': 8.0,\n            'f': \"8.0\",\n        }],\n [{\n            'v': 31,\n            'f': \"31\",\n        },\n{\n            'v': 60,\n            'f': \"60\",\n        },\n{\n            'v': 101,\n            'f': \"101\",\n        },\n{\n            'v': 124,\n            'f': \"124\",\n        },\n{\n            'v': 299,\n            'f': \"299\",\n        },\n{\n            'v': 8.5,\n            'f': \"8.5\",\n        },\n{\n            'v': 7.5,\n            'f': \"7.5\",\n        }],\n [{\n            'v': 32,\n            'f': \"32\",\n        },\n{\n            'v': 60,\n            'f': \"60\",\n        },\n{\n            'v': 93,\n            'f': \"93\",\n        },\n{\n            'v': 113,\n            'f': \"113\",\n        },\n{\n            'v': 223,\n            'f': \"223\",\n        },\n{\n            'v': 8.0,\n            'f': \"8.0\",\n        },\n{\n            'v': 7.0,\n            'f': \"7.0\",\n        }],\n [{\n            'v': 33,\n            'f': \"33\",\n        },\n{\n            'v': 60,\n            'f': \"60\",\n        },\n{\n            'v': 107,\n            'f': \"107\",\n        },\n{\n            'v': 136,\n            'f': \"136\",\n        },\n{\n            'v': 361,\n            'f': \"361\",\n        },\n{\n            'v': 2.0,\n            'f': \"2.0\",\n        },\n{\n            'v': 8.0,\n            'f': \"8.0\",\n        }],\n [{\n            'v': 34,\n            'f': \"34\",\n        },\n{\n            'v': 60,\n            'f': \"60\",\n        },\n{\n            'v': 114,\n            'f': \"114\",\n        },\n{\n            'v': 140,\n            'f': \"140\",\n        },\n{\n            'v': 415,\n            'f': \"415\",\n        },\n{\n            'v': 9.0,\n            'f': \"9.0\",\n        },\n{\n            'v': 8.5,\n            'f': \"8.5\",\n        }],\n [{\n            'v': 35,\n            'f': \"35\",\n        },\n{\n            'v': 60,\n            'f': \"60\",\n        },\n{\n            'v': 100,\n            'f': \"100\",\n        },\n{\n            'v': 120,\n            'f': \"120\",\n        },\n{\n            'v': 300,\n            'f': \"300\",\n        },\n{\n            'v': 8.0,\n            'f': \"8.0\",\n        },\n{\n            'v': 7.0,\n            'f': \"7.0\",\n        }],\n [{\n            'v': 36,\n            'f': \"36\",\n        },\n{\n            'v': 60,\n            'f': \"60\",\n        },\n{\n            'v': 100,\n            'f': \"100\",\n        },\n{\n            'v': 120,\n            'f': \"120\",\n        },\n{\n            'v': 300,\n            'f': \"300\",\n        },\n{\n            'v': 7.0,\n            'f': \"7.0\",\n        },\n{\n            'v': 6.0,\n            'f': \"6.0\",\n        }],\n [{\n            'v': 37,\n            'f': \"37\",\n        },\n{\n            'v': 45,\n            'f': \"45\",\n        },\n{\n            'v': 104,\n            'f': \"104\",\n        },\n{\n            'v': 129,\n            'f': \"129\",\n        },\n{\n            'v': 266,\n            'f': \"266\",\n        },\n{\n            'v': 8.0,\n            'f': \"8.0\",\n        },\n{\n            'v': 7.0,\n            'f': \"7.0\",\n        }],\n [{\n            'v': 38,\n            'f': \"38\",\n        },\n{\n            'v': 60,\n            'f': \"60\",\n        },\n{\n            'v': 98,\n            'f': \"98\",\n        },\n{\n            'v': 126,\n            'f': \"126\",\n        },\n{\n            'v': 286,\n            'f': \"286\",\n        },\n{\n            'v': 7.5,\n            'f': \"7.5\",\n        },\n{\n            'v': 7.0,\n            'f': \"7.0\",\n        }],\n [{\n            'v': 39,\n            'f': \"39\",\n        },\n{\n            'v': 60,\n            'f': \"60\",\n        },\n{\n            'v': 100,\n            'f': \"100\",\n        },\n{\n            'v': 122,\n            'f': \"122\",\n        },\n{\n            'v': 329,\n            'f': \"329\",\n        },\n{\n            'v': 8.0,\n            'f': \"8.0\",\n        },\n{\n            'v': 7.0,\n            'f': \"7.0\",\n        }],\n [{\n            'v': 40,\n            'f': \"40\",\n        },\n{\n            'v': 60,\n            'f': \"60\",\n        },\n{\n            'v': 111,\n            'f': \"111\",\n        },\n{\n            'v': 138,\n            'f': \"138\",\n        },\n{\n            'v': 400,\n            'f': \"400\",\n        },\n{\n            'v': 8.0,\n            'f': \"8.0\",\n        },\n{\n            'v': 8.0,\n            'f': \"8.0\",\n        }],\n [{\n            'v': 41,\n            'f': \"41\",\n        },\n{\n            'v': 60,\n            'f': \"60\",\n        },\n{\n            'v': 111,\n            'f': \"111\",\n        },\n{\n            'v': 131,\n            'f': \"131\",\n        },\n{\n            'v': 397,\n            'f': \"397\",\n        },\n{\n            'v': 0.0,\n            'f': \"0.0\",\n        },\n{\n            'v': 8.0,\n            'f': \"8.0\",\n        }],\n [{\n            'v': 42,\n            'f': \"42\",\n        },\n{\n            'v': 60,\n            'f': \"60\",\n        },\n{\n            'v': 99,\n            'f': \"99\",\n        },\n{\n            'v': 119,\n            'f': \"119\",\n        },\n{\n            'v': 273,\n            'f': \"273\",\n        },\n{\n            'v': 8.0,\n            'f': \"8.0\",\n        },\n{\n            'v': 7.0,\n            'f': \"7.0\",\n        }],\n [{\n            'v': 43,\n            'f': \"43\",\n        },\n{\n            'v': 60,\n            'f': \"60\",\n        },\n{\n            'v': 109,\n            'f': \"109\",\n        },\n{\n            'v': 153,\n            'f': \"153\",\n        },\n{\n            'v': 387,\n            'f': \"387\",\n        },\n{\n            'v': 8.0,\n            'f': \"8.0\",\n        },\n{\n            'v': 7.0,\n            'f': \"7.0\",\n        }],\n [{\n            'v': 44,\n            'f': \"44\",\n        },\n{\n            'v': 45,\n            'f': \"45\",\n        },\n{\n            'v': 111,\n            'f': \"111\",\n        },\n{\n            'v': 136,\n            'f': \"136\",\n        },\n{\n            'v': 300,\n            'f': \"300\",\n        },\n{\n            'v': 11.0,\n            'f': \"11.0\",\n        },\n{\n            'v': 7.0,\n            'f': \"7.0\",\n        }],\n [{\n            'v': 45,\n            'f': \"45\",\n        },\n{\n            'v': 45,\n            'f': \"45\",\n        },\n{\n            'v': 108,\n            'f': \"108\",\n        },\n{\n            'v': 129,\n            'f': \"129\",\n        },\n{\n            'v': 298,\n            'f': \"298\",\n        },\n{\n            'v': 5.0,\n            'f': \"5.0\",\n        },\n{\n            'v': 7.0,\n            'f': \"7.0\",\n        }],\n [{\n            'v': 46,\n            'f': \"46\",\n        },\n{\n            'v': 60,\n            'f': \"60\",\n        },\n{\n            'v': 111,\n            'f': \"111\",\n        },\n{\n            'v': 139,\n            'f': \"139\",\n        },\n{\n            'v': 397,\n            'f': \"397\",\n        },\n{\n            'v': 0.0,\n            'f': \"0.0\",\n        },\n{\n            'v': 8.0,\n            'f': \"8.0\",\n        }],\n [{\n            'v': 47,\n            'f': \"47\",\n        },\n{\n            'v': 60,\n            'f': \"60\",\n        },\n{\n            'v': 107,\n            'f': \"107\",\n        },\n{\n            'v': 136,\n            'f': \"136\",\n        },\n{\n            'v': 380,\n            'f': \"380\",\n        },\n{\n            'v': 8.5,\n            'f': \"8.5\",\n        },\n{\n            'v': 8.0,\n            'f': \"8.0\",\n        }],\n [{\n            'v': 48,\n            'f': \"48\",\n        },\n{\n            'v': 80,\n            'f': \"80\",\n        },\n{\n            'v': 123,\n            'f': \"123\",\n        },\n{\n            'v': 146,\n            'f': \"146\",\n        },\n{\n            'v': 643,\n            'f': \"643\",\n        },\n{\n            'v': 8.5,\n            'f': \"8.5\",\n        },\n{\n            'v': 8.0,\n            'f': \"8.0\",\n        }],\n [{\n            'v': 49,\n            'f': \"49\",\n        },\n{\n            'v': 60,\n            'f': \"60\",\n        },\n{\n            'v': 106,\n            'f': \"106\",\n        },\n{\n            'v': 130,\n            'f': \"130\",\n        },\n{\n            'v': 263,\n            'f': \"263\",\n        },\n{\n            'v': 8.0,\n            'f': \"8.0\",\n        },\n{\n            'v': 8.0,\n            'f': \"8.0\",\n        }],\n [{\n            'v': 50,\n            'f': \"50\",\n        },\n{\n            'v': 60,\n            'f': \"60\",\n        },\n{\n            'v': 118,\n            'f': \"118\",\n        },\n{\n            'v': 151,\n            'f': \"151\",\n        },\n{\n            'v': 486,\n            'f': \"486\",\n        },\n{\n            'v': 7.0,\n            'f': \"7.0\",\n        },\n{\n            'v': 7.0,\n            'f': \"7.0\",\n        }],\n [{\n            'v': 51,\n            'f': \"51\",\n        },\n{\n            'v': 30,\n            'f': \"30\",\n        },\n{\n            'v': 136,\n            'f': \"136\",\n        },\n{\n            'v': 175,\n            'f': \"175\",\n        },\n{\n            'v': 238,\n            'f': \"238\",\n        },\n{\n            'v': 0.0,\n            'f': \"0.0\",\n        },\n{\n            'v': 7.5,\n            'f': \"7.5\",\n        }],\n [{\n            'v': 52,\n            'f': \"52\",\n        },\n{\n            'v': 60,\n            'f': \"60\",\n        },\n{\n            'v': 121,\n            'f': \"121\",\n        },\n{\n            'v': 146,\n            'f': \"146\",\n        },\n{\n            'v': 450,\n            'f': \"450\",\n        },\n{\n            'v': 5.0,\n            'f': \"5.0\",\n        },\n{\n            'v': 8.0,\n            'f': \"8.0\",\n        }],\n [{\n            'v': 53,\n            'f': \"53\",\n        },\n{\n            'v': 60,\n            'f': \"60\",\n        },\n{\n            'v': 118,\n            'f': \"118\",\n        },\n{\n            'v': 121,\n            'f': \"121\",\n        },\n{\n            'v': 413,\n            'f': \"413\",\n        },\n{\n            'v': 8.0,\n            'f': \"8.0\",\n        },\n{\n            'v': 7.0,\n            'f': \"7.0\",\n        }],\n [{\n            'v': 54,\n            'f': \"54\",\n        },\n{\n            'v': 45,\n            'f': \"45\",\n        },\n{\n            'v': 115,\n            'f': \"115\",\n        },\n{\n            'v': 144,\n            'f': \"144\",\n        },\n{\n            'v': 305,\n            'f': \"305\",\n        },\n{\n            'v': 5.0,\n            'f': \"5.0\",\n        },\n{\n            'v': 7.0,\n            'f': \"7.0\",\n        }],\n [{\n            'v': 55,\n            'f': \"55\",\n        },\n{\n            'v': 20,\n            'f': \"20\",\n        },\n{\n            'v': 153,\n            'f': \"153\",\n        },\n{\n            'v': 172,\n            'f': \"172\",\n        },\n{\n            'v': 226,\n            'f': \"226\",\n        },\n{\n            'v': 0.0,\n            'f': \"0.0\",\n        },\n{\n            'v': 8.0,\n            'f': \"8.0\",\n        }],\n [{\n            'v': 56,\n            'f': \"56\",\n        },\n{\n            'v': 45,\n            'f': \"45\",\n        },\n{\n            'v': 123,\n            'f': \"123\",\n        },\n{\n            'v': 152,\n            'f': \"152\",\n        },\n{\n            'v': 321,\n            'f': \"321\",\n        },\n{\n            'v': 5.0,\n            'f': \"5.0\",\n        },\n{\n            'v': 8.0,\n            'f': \"8.0\",\n        }],\n [{\n            'v': 57,\n            'f': \"57\",\n        },\n{\n            'v': 210,\n            'f': \"210\",\n        },\n{\n            'v': 108,\n            'f': \"108\",\n        },\n{\n            'v': 160,\n            'f': \"160\",\n        },\n{\n            'v': 1376,\n            'f': \"1376\",\n        },\n{\n            'v': 8.0,\n            'f': \"8.0\",\n        },\n{\n            'v': 8.0,\n            'f': \"8.0\",\n        }],\n [{\n            'v': 58,\n            'f': \"58\",\n        },\n{\n            'v': 160,\n            'f': \"160\",\n        },\n{\n            'v': 110,\n            'f': \"110\",\n        },\n{\n            'v': 137,\n            'f': \"137\",\n        },\n{\n            'v': 1034,\n            'f': \"1034\",\n        },\n{\n            'v': 8.0,\n            'f': \"8.0\",\n        },\n{\n            'v': 8.0,\n            'f': \"8.0\",\n        }],\n [{\n            'v': 59,\n            'f': \"59\",\n        },\n{\n            'v': 160,\n            'f': \"160\",\n        },\n{\n            'v': 109,\n            'f': \"109\",\n        },\n{\n            'v': 135,\n            'f': \"135\",\n        },\n{\n            'v': 853,\n            'f': \"853\",\n        },\n{\n            'v': 8.0,\n            'f': \"8.0\",\n        },\n{\n            'v': 8.0,\n            'f': \"8.0\",\n        }],\n [{\n            'v': 60,\n            'f': \"60\",\n        },\n{\n            'v': 45,\n            'f': \"45\",\n        },\n{\n            'v': 118,\n            'f': \"118\",\n        },\n{\n            'v': 141,\n            'f': \"141\",\n        },\n{\n            'v': 341,\n            'f': \"341\",\n        },\n{\n            'v': 8.0,\n            'f': \"8.0\",\n        },\n{\n            'v': 8.0,\n            'f': \"8.0\",\n        }],\n [{\n            'v': 61,\n            'f': \"61\",\n        },\n{\n            'v': 20,\n            'f': \"20\",\n        },\n{\n            'v': 110,\n            'f': \"110\",\n        },\n{\n            'v': 130,\n            'f': \"130\",\n        },\n{\n            'v': 131,\n            'f': \"131\",\n        },\n{\n            'v': 0.0,\n            'f': \"0.0\",\n        },\n{\n            'v': 8.0,\n            'f': \"8.0\",\n        }],\n [{\n            'v': 62,\n            'f': \"62\",\n        },\n{\n            'v': 180,\n            'f': \"180\",\n        },\n{\n            'v': 90,\n            'f': \"90\",\n        },\n{\n            'v': 130,\n            'f': \"130\",\n        },\n{\n            'v': 800,\n            'f': \"800\",\n        },\n{\n            'v': 0.0,\n            'f': \"0.0\",\n        },\n{\n            'v': 8.0,\n            'f': \"8.0\",\n        }],\n [{\n            'v': 63,\n            'f': \"63\",\n        },\n{\n            'v': 150,\n            'f': \"150\",\n        },\n{\n            'v': 105,\n            'f': \"105\",\n        },\n{\n            'v': 135,\n            'f': \"135\",\n        },\n{\n            'v': 873,\n            'f': \"873\",\n        },\n{\n            'v': 8.0,\n            'f': \"8.0\",\n        },\n{\n            'v': 8.0,\n            'f': \"8.0\",\n        }],\n [{\n            'v': 64,\n            'f': \"64\",\n        },\n{\n            'v': 150,\n            'f': \"150\",\n        },\n{\n            'v': 107,\n            'f': \"107\",\n        },\n{\n            'v': 130,\n            'f': \"130\",\n        },\n{\n            'v': 816,\n            'f': \"816\",\n        },\n{\n            'v': 3.0,\n            'f': \"3.0\",\n        },\n{\n            'v': 8.0,\n            'f': \"8.0\",\n        }],\n [{\n            'v': 65,\n            'f': \"65\",\n        },\n{\n            'v': 20,\n            'f': \"20\",\n        },\n{\n            'v': 106,\n            'f': \"106\",\n        },\n{\n            'v': 136,\n            'f': \"136\",\n        },\n{\n            'v': 110,\n            'f': \"110\",\n        },\n{\n            'v': 3.0,\n            'f': \"3.0\",\n        },\n{\n            'v': 8.0,\n            'f': \"8.0\",\n        }],\n [{\n            'v': 66,\n            'f': \"66\",\n        },\n{\n            'v': 300,\n            'f': \"300\",\n        },\n{\n            'v': 108,\n            'f': \"108\",\n        },\n{\n            'v': 143,\n            'f': \"143\",\n        },\n{\n            'v': 1500,\n            'f': \"1500\",\n        },\n{\n            'v': 0.0,\n            'f': \"0.0\",\n        },\n{\n            'v': 8.0,\n            'f': \"8.0\",\n        }],\n [{\n            'v': 67,\n            'f': \"67\",\n        },\n{\n            'v': 150,\n            'f': \"150\",\n        },\n{\n            'v': 97,\n            'f': \"97\",\n        },\n{\n            'v': 129,\n            'f': \"129\",\n        },\n{\n            'v': 1115,\n            'f': \"1115\",\n        },\n{\n            'v': 0.0,\n            'f': \"0.0\",\n        },\n{\n            'v': 8.0,\n            'f': \"8.0\",\n        }],\n [{\n            'v': 68,\n            'f': \"68\",\n        },\n{\n            'v': 90,\n            'f': \"90\",\n        },\n{\n            'v': 100,\n            'f': \"100\",\n        },\n{\n            'v': 127,\n            'f': \"127\",\n        },\n{\n            'v': 700,\n            'f': \"700\",\n        },\n{\n            'v': 0.0,\n            'f': \"0.0\",\n        },\n{\n            'v': 8.0,\n            'f': \"8.0\",\n        }],\n [{\n            'v': 69,\n            'f': \"69\",\n        },\n{\n            'v': 150,\n            'f': \"150\",\n        },\n{\n            'v': 97,\n            'f': \"97\",\n        },\n{\n            'v': 127,\n            'f': \"127\",\n        },\n{\n            'v': 953,\n            'f': \"953\",\n        },\n{\n            'v': 0.0,\n            'f': \"0.0\",\n        },\n{\n            'v': 8.0,\n            'f': \"8.0\",\n        }],\n [{\n            'v': 70,\n            'f': \"70\",\n        },\n{\n            'v': 45,\n            'f': \"45\",\n        },\n{\n            'v': 114,\n            'f': \"114\",\n        },\n{\n            'v': 146,\n            'f': \"146\",\n        },\n{\n            'v': 304,\n            'f': \"304\",\n        },\n{\n            'v': 0.0,\n            'f': \"0.0\",\n        },\n{\n            'v': 8.0,\n            'f': \"8.0\",\n        }],\n [{\n            'v': 71,\n            'f': \"71\",\n        },\n{\n            'v': 90,\n            'f': \"90\",\n        },\n{\n            'v': 98,\n            'f': \"98\",\n        },\n{\n            'v': 125,\n            'f': \"125\",\n        },\n{\n            'v': 563,\n            'f': \"563\",\n        },\n{\n            'v': 0.0,\n            'f': \"0.0\",\n        },\n{\n            'v': 8.0,\n            'f': \"8.0\",\n        }],\n [{\n            'v': 72,\n            'f': \"72\",\n        },\n{\n            'v': 45,\n            'f': \"45\",\n        },\n{\n            'v': 105,\n            'f': \"105\",\n        },\n{\n            'v': 134,\n            'f': \"134\",\n        },\n{\n            'v': 251,\n            'f': \"251\",\n        },\n{\n            'v': 0.0,\n            'f': \"0.0\",\n        },\n{\n            'v': 8.0,\n            'f': \"8.0\",\n        }],\n [{\n            'v': 73,\n            'f': \"73\",\n        },\n{\n            'v': 45,\n            'f': \"45\",\n        },\n{\n            'v': 110,\n            'f': \"110\",\n        },\n{\n            'v': 141,\n            'f': \"141\",\n        },\n{\n            'v': 300,\n            'f': \"300\",\n        },\n{\n            'v': 7.0,\n            'f': \"7.0\",\n        },\n{\n            'v': 7.5,\n            'f': \"7.5\",\n        }],\n [{\n            'v': 74,\n            'f': \"74\",\n        },\n{\n            'v': 120,\n            'f': \"120\",\n        },\n{\n            'v': 100,\n            'f': \"100\",\n        },\n{\n            'v': 130,\n            'f': \"130\",\n        },\n{\n            'v': 500,\n            'f': \"500\",\n        },\n{\n            'v': 7.0,\n            'f': \"7.0\",\n        },\n{\n            'v': 7.5,\n            'f': \"7.5\",\n        }],\n [{\n            'v': 75,\n            'f': \"75\",\n        },\n{\n            'v': 270,\n            'f': \"270\",\n        },\n{\n            'v': 100,\n            'f': \"100\",\n        },\n{\n            'v': 131,\n            'f': \"131\",\n        },\n{\n            'v': 1729,\n            'f': \"1729\",\n        },\n{\n            'v': 0.0,\n            'f': \"0.0\",\n        },\n{\n            'v': 7.0,\n            'f': \"7.0\",\n        }],\n [{\n            'v': 76,\n            'f': \"76\",\n        },\n{\n            'v': 30,\n            'f': \"30\",\n        },\n{\n            'v': 159,\n            'f': \"159\",\n        },\n{\n            'v': 182,\n            'f': \"182\",\n        },\n{\n            'v': 319,\n            'f': \"319\",\n        },\n{\n            'v': 5.0,\n            'f': \"5.0\",\n        },\n{\n            'v': 7.5,\n            'f': \"7.5\",\n        }],\n [{\n            'v': 77,\n            'f': \"77\",\n        },\n{\n            'v': 45,\n            'f': \"45\",\n        },\n{\n            'v': 149,\n            'f': \"149\",\n        },\n{\n            'v': 169,\n            'f': \"169\",\n        },\n{\n            'v': 344,\n            'f': \"344\",\n        },\n{\n            'v': 0.0,\n            'f': \"0.0\",\n        },\n{\n            'v': 8.0,\n            'f': \"8.0\",\n        }],\n [{\n            'v': 78,\n            'f': \"78\",\n        },\n{\n            'v': 30,\n            'f': \"30\",\n        },\n{\n            'v': 103,\n            'f': \"103\",\n        },\n{\n            'v': 139,\n            'f': \"139\",\n        },\n{\n            'v': 151,\n            'f': \"151\",\n        },\n{\n            'v': 4.0,\n            'f': \"4.0\",\n        },\n{\n            'v': 8.0,\n            'f': \"8.0\",\n        }],\n [{\n            'v': 79,\n            'f': \"79\",\n        },\n{\n            'v': 120,\n            'f': \"120\",\n        },\n{\n            'v': 100,\n            'f': \"100\",\n        },\n{\n            'v': 130,\n            'f': \"130\",\n        },\n{\n            'v': 500,\n            'f': \"500\",\n        },\n{\n            'v': 0.0,\n            'f': \"0.0\",\n        },\n{\n            'v': 8.0,\n            'f': \"8.0\",\n        }],\n [{\n            'v': 80,\n            'f': \"80\",\n        },\n{\n            'v': 45,\n            'f': \"45\",\n        },\n{\n            'v': 100,\n            'f': \"100\",\n        },\n{\n            'v': 120,\n            'f': \"120\",\n        },\n{\n            'v': 225,\n            'f': \"225\",\n        },\n{\n            'v': 8.5,\n            'f': \"8.5\",\n        },\n{\n            'v': 8.0,\n            'f': \"8.0\",\n        }],\n [{\n            'v': 81,\n            'f': \"81\",\n        },\n{\n            'v': 30,\n            'f': \"30\",\n        },\n{\n            'v': 151,\n            'f': \"151\",\n        },\n{\n            'v': 170,\n            'f': \"170\",\n        },\n{\n            'v': 300,\n            'f': \"300\",\n        },\n{\n            'v': 0.0,\n            'f': \"0.0\",\n        },\n{\n            'v': 7.0,\n            'f': \"7.0\",\n        }],\n [{\n            'v': 82,\n            'f': \"82\",\n        },\n{\n            'v': 45,\n            'f': \"45\",\n        },\n{\n            'v': 102,\n            'f': \"102\",\n        },\n{\n            'v': 136,\n            'f': \"136\",\n        },\n{\n            'v': 234,\n            'f': \"234\",\n        },\n{\n            'v': 6.5,\n            'f': \"6.5\",\n        },\n{\n            'v': 8.0,\n            'f': \"8.0\",\n        }],\n [{\n            'v': 83,\n            'f': \"83\",\n        },\n{\n            'v': 120,\n            'f': \"120\",\n        },\n{\n            'v': 100,\n            'f': \"100\",\n        },\n{\n            'v': 157,\n            'f': \"157\",\n        },\n{\n            'v': 1000,\n            'f': \"1000\",\n        },\n{\n            'v': 0.0,\n            'f': \"0.0\",\n        },\n{\n            'v': 8.0,\n            'f': \"8.0\",\n        }],\n [{\n            'v': 84,\n            'f': \"84\",\n        },\n{\n            'v': 45,\n            'f': \"45\",\n        },\n{\n            'v': 129,\n            'f': \"129\",\n        },\n{\n            'v': 103,\n            'f': \"103\",\n        },\n{\n            'v': 242,\n            'f': \"242\",\n        },\n{\n            'v': 5.0,\n            'f': \"5.0\",\n        },\n{\n            'v': 8.0,\n            'f': \"8.0\",\n        }],\n [{\n            'v': 85,\n            'f': \"85\",\n        },\n{\n            'v': 20,\n            'f': \"20\",\n        },\n{\n            'v': 83,\n            'f': \"83\",\n        },\n{\n            'v': 107,\n            'f': \"107\",\n        },\n{\n            'v': 50,\n            'f': \"50\",\n        },\n{\n            'v': 9.5,\n            'f': \"9.5\",\n        },\n{\n            'v': 8.0,\n            'f': \"8.0\",\n        }],\n [{\n            'v': 86,\n            'f': \"86\",\n        },\n{\n            'v': 180,\n            'f': \"180\",\n        },\n{\n            'v': 101,\n            'f': \"101\",\n        },\n{\n            'v': 127,\n            'f': \"127\",\n        },\n{\n            'v': 600,\n            'f': \"600\",\n        },\n{\n            'v': 0.0,\n            'f': \"0.0\",\n        },\n{\n            'v': 7.5,\n            'f': \"7.5\",\n        }],\n [{\n            'v': 87,\n            'f': \"87\",\n        },\n{\n            'v': 45,\n            'f': \"45\",\n        },\n{\n            'v': 107,\n            'f': \"107\",\n        },\n{\n            'v': 137,\n            'f': \"137\",\n        },\n{\n            'v': 1200,\n            'f': \"1200\",\n        },\n{\n            'v': 8.0,\n            'f': \"8.0\",\n        },\n{\n            'v': 8.0,\n            'f': \"8.0\",\n        }],\n [{\n            'v': 88,\n            'f': \"88\",\n        },\n{\n            'v': 30,\n            'f': \"30\",\n        },\n{\n            'v': 90,\n            'f': \"90\",\n        },\n{\n            'v': 107,\n            'f': \"107\",\n        },\n{\n            'v': 105,\n            'f': \"105\",\n        },\n{\n            'v': 7.0,\n            'f': \"7.0\",\n        },\n{\n            'v': 8.0,\n            'f': \"8.0\",\n        }],\n [{\n            'v': 89,\n            'f': \"89\",\n        },\n{\n            'v': 15,\n            'f': \"15\",\n        },\n{\n            'v': 80,\n            'f': \"80\",\n        },\n{\n            'v': 100,\n            'f': \"100\",\n        },\n{\n            'v': 50,\n            'f': \"50\",\n        },\n{\n            'v': 9.0,\n            'f': \"9.0\",\n        },\n{\n            'v': 8.0,\n            'f': \"8.0\",\n        }],\n [{\n            'v': 90,\n            'f': \"90\",\n        },\n{\n            'v': 20,\n            'f': \"20\",\n        },\n{\n            'v': 150,\n            'f': \"150\",\n        },\n{\n            'v': 171,\n            'f': \"171\",\n        },\n{\n            'v': 127,\n            'f': \"127\",\n        },\n{\n            'v': 0.0,\n            'f': \"0.0\",\n        },\n{\n            'v': 7.5,\n            'f': \"7.5\",\n        }],\n [{\n            'v': 91,\n            'f': \"91\",\n        },\n{\n            'v': 20,\n            'f': \"20\",\n        },\n{\n            'v': 151,\n            'f': \"151\",\n        },\n{\n            'v': 168,\n            'f': \"168\",\n        },\n{\n            'v': 229,\n            'f': \"229\",\n        },\n{\n            'v': 0.0,\n            'f': \"0.0\",\n        },\n{\n            'v': 7.0,\n            'f': \"7.0\",\n        }],\n [{\n            'v': 92,\n            'f': \"92\",\n        },\n{\n            'v': 30,\n            'f': \"30\",\n        },\n{\n            'v': 95,\n            'f': \"95\",\n        },\n{\n            'v': 128,\n            'f': \"128\",\n        },\n{\n            'v': 128,\n            'f': \"128\",\n        },\n{\n            'v': 8.0,\n            'f': \"8.0\",\n        },\n{\n            'v': 7.5,\n            'f': \"7.5\",\n        }],\n [{\n            'v': 93,\n            'f': \"93\",\n        },\n{\n            'v': 25,\n            'f': \"25\",\n        },\n{\n            'v': 152,\n            'f': \"152\",\n        },\n{\n            'v': 168,\n            'f': \"168\",\n        },\n{\n            'v': 244,\n            'f': \"244\",\n        },\n{\n            'v': 0.0,\n            'f': \"0.0\",\n        },\n{\n            'v': 8.0,\n            'f': \"8.0\",\n        }],\n [{\n            'v': 94,\n            'f': \"94\",\n        },\n{\n            'v': 30,\n            'f': \"30\",\n        },\n{\n            'v': 109,\n            'f': \"109\",\n        },\n{\n            'v': 131,\n            'f': \"131\",\n        },\n{\n            'v': 188,\n            'f': \"188\",\n        },\n{\n            'v': 8.0,\n            'f': \"8.0\",\n        },\n{\n            'v': 7.5,\n            'f': \"7.5\",\n        }],\n [{\n            'v': 95,\n            'f': \"95\",\n        },\n{\n            'v': 90,\n            'f': \"90\",\n        },\n{\n            'v': 93,\n            'f': \"93\",\n        },\n{\n            'v': 124,\n            'f': \"124\",\n        },\n{\n            'v': 604,\n            'f': \"604\",\n        },\n{\n            'v': 8.0,\n            'f': \"8.0\",\n        },\n{\n            'v': 8.0,\n            'f': \"8.0\",\n        }],\n [{\n            'v': 96,\n            'f': \"96\",\n        },\n{\n            'v': 20,\n            'f': \"20\",\n        },\n{\n            'v': 95,\n            'f': \"95\",\n        },\n{\n            'v': 112,\n            'f': \"112\",\n        },\n{\n            'v': 77,\n            'f': \"77\",\n        },\n{\n            'v': 8.0,\n            'f': \"8.0\",\n        },\n{\n            'v': 8.0,\n            'f': \"8.0\",\n        }],\n [{\n            'v': 97,\n            'f': \"97\",\n        },\n{\n            'v': 90,\n            'f': \"90\",\n        },\n{\n            'v': 90,\n            'f': \"90\",\n        },\n{\n            'v': 110,\n            'f': \"110\",\n        },\n{\n            'v': 500,\n            'f': \"500\",\n        },\n{\n            'v': 8.0,\n            'f': \"8.0\",\n        },\n{\n            'v': 8.0,\n            'f': \"8.0\",\n        }],\n [{\n            'v': 98,\n            'f': \"98\",\n        },\n{\n            'v': 90,\n            'f': \"90\",\n        },\n{\n            'v': 90,\n            'f': \"90\",\n        },\n{\n            'v': 100,\n            'f': \"100\",\n        },\n{\n            'v': 500,\n            'f': \"500\",\n        },\n{\n            'v': 0.0,\n            'f': \"0.0\",\n        },\n{\n            'v': 8.0,\n            'f': \"8.0\",\n        }],\n [{\n            'v': 99,\n            'f': \"99\",\n        },\n{\n            'v': 90,\n            'f': \"90\",\n        },\n{\n            'v': 90,\n            'f': \"90\",\n        },\n{\n            'v': 100,\n            'f': \"100\",\n        },\n{\n            'v': 500,\n            'f': \"500\",\n        },\n{\n            'v': 5.0,\n            'f': \"5.0\",\n        },\n{\n            'v': 8.0,\n            'f': \"8.0\",\n        }],\n [{\n            'v': 100,\n            'f': \"100\",\n        },\n{\n            'v': 30,\n            'f': \"30\",\n        },\n{\n            'v': 92,\n            'f': \"92\",\n        },\n{\n            'v': 108,\n            'f': \"108\",\n        },\n{\n            'v': 92,\n            'f': \"92\",\n        },\n{\n            'v': 8.0,\n            'f': \"8.0\",\n        },\n{\n            'v': 8.0,\n            'f': \"8.0\",\n        }],\n [{\n            'v': 101,\n            'f': \"101\",\n        },\n{\n            'v': 30,\n            'f': \"30\",\n        },\n{\n            'v': 93,\n            'f': \"93\",\n        },\n{\n            'v': 128,\n            'f': \"128\",\n        },\n{\n            'v': 124,\n            'f': \"124\",\n        },\n{\n            'v': 8.0,\n            'f': \"8.0\",\n        },\n{\n            'v': 8.0,\n            'f': \"8.0\",\n        }],\n [{\n            'v': 102,\n            'f': \"102\",\n        },\n{\n            'v': 180,\n            'f': \"180\",\n        },\n{\n            'v': 90,\n            'f': \"90\",\n        },\n{\n            'v': 120,\n            'f': \"120\",\n        },\n{\n            'v': 800,\n            'f': \"800\",\n        },\n{\n            'v': 8.0,\n            'f': \"8.0\",\n        },\n{\n            'v': 8.0,\n            'f': \"8.0\",\n        }],\n [{\n            'v': 103,\n            'f': \"103\",\n        },\n{\n            'v': 30,\n            'f': \"30\",\n        },\n{\n            'v': 90,\n            'f': \"90\",\n        },\n{\n            'v': 120,\n            'f': \"120\",\n        },\n{\n            'v': 86,\n            'f': \"86\",\n        },\n{\n            'v': 7.0,\n            'f': \"7.0\",\n        },\n{\n            'v': 8.0,\n            'f': \"8.0\",\n        }],\n [{\n            'v': 104,\n            'f': \"104\",\n        },\n{\n            'v': 90,\n            'f': \"90\",\n        },\n{\n            'v': 90,\n            'f': \"90\",\n        },\n{\n            'v': 120,\n            'f': \"120\",\n        },\n{\n            'v': 500,\n            'f': \"500\",\n        },\n{\n            'v': 8.0,\n            'f': \"8.0\",\n        },\n{\n            'v': 8.0,\n            'f': \"8.0\",\n        }],\n [{\n            'v': 105,\n            'f': \"105\",\n        },\n{\n            'v': 210,\n            'f': \"210\",\n        },\n{\n            'v': 137,\n            'f': \"137\",\n        },\n{\n            'v': 184,\n            'f': \"184\",\n        },\n{\n            'v': 1860,\n            'f': \"1860\",\n        },\n{\n            'v': 0.0,\n            'f': \"0.0\",\n        },\n{\n            'v': 7.5,\n            'f': \"7.5\",\n        }],\n [{\n            'v': 106,\n            'f': \"106\",\n        },\n{\n            'v': 60,\n            'f': \"60\",\n        },\n{\n            'v': 102,\n            'f': \"102\",\n        },\n{\n            'v': 124,\n            'f': \"124\",\n        },\n{\n            'v': 325,\n            'f': \"325\",\n        },\n{\n            'v': 0.0,\n            'f': \"0.0\",\n        },\n{\n            'v': 8.0,\n            'f': \"8.0\",\n        }],\n [{\n            'v': 107,\n            'f': \"107\",\n        },\n{\n            'v': 45,\n            'f': \"45\",\n        },\n{\n            'v': 107,\n            'f': \"107\",\n        },\n{\n            'v': 124,\n            'f': \"124\",\n        },\n{\n            'v': 275,\n            'f': \"275\",\n        },\n{\n            'v': 0.0,\n            'f': \"0.0\",\n        },\n{\n            'v': 8.0,\n            'f': \"8.0\",\n        }],\n [{\n            'v': 108,\n            'f': \"108\",\n        },\n{\n            'v': 15,\n            'f': \"15\",\n        },\n{\n            'v': 124,\n            'f': \"124\",\n        },\n{\n            'v': 139,\n            'f': \"139\",\n        },\n{\n            'v': 124,\n            'f': \"124\",\n        },\n{\n            'v': 5.0,\n            'f': \"5.0\",\n        },\n{\n            'v': 6.0,\n            'f': \"6.0\",\n        }],\n [{\n            'v': 109,\n            'f': \"109\",\n        },\n{\n            'v': 60,\n            'f': \"60\",\n        },\n{\n            'v': 108,\n            'f': \"108\",\n        },\n{\n            'v': 131,\n            'f': \"131\",\n        },\n{\n            'v': 367,\n            'f': \"367\",\n        },\n{\n            'v': 0.0,\n            'f': \"0.0\",\n        },\n{\n            'v': 8.0,\n            'f': \"8.0\",\n        }],\n [{\n            'v': 110,\n            'f': \"110\",\n        },\n{\n            'v': 60,\n            'f': \"60\",\n        },\n{\n            'v': 108,\n            'f': \"108\",\n        },\n{\n            'v': 151,\n            'f': \"151\",\n        },\n{\n            'v': 351,\n            'f': \"351\",\n        },\n{\n            'v': 0.0,\n            'f': \"0.0\",\n        },\n{\n            'v': 8.0,\n            'f': \"8.0\",\n        }],\n [{\n            'v': 111,\n            'f': \"111\",\n        },\n{\n            'v': 60,\n            'f': \"60\",\n        },\n{\n            'v': 116,\n            'f': \"116\",\n        },\n{\n            'v': 141,\n            'f': \"141\",\n        },\n{\n            'v': 443,\n            'f': \"443\",\n        },\n{\n            'v': 0.0,\n            'f': \"0.0\",\n        },\n{\n            'v': 8.0,\n            'f': \"8.0\",\n        }],\n [{\n            'v': 112,\n            'f': \"112\",\n        },\n{\n            'v': 60,\n            'f': \"60\",\n        },\n{\n            'v': 97,\n            'f': \"97\",\n        },\n{\n            'v': 122,\n            'f': \"122\",\n        },\n{\n            'v': 277,\n            'f': \"277\",\n        },\n{\n            'v': 0.0,\n            'f': \"0.0\",\n        },\n{\n            'v': 8.0,\n            'f': \"8.0\",\n        }],\n [{\n            'v': 113,\n            'f': \"113\",\n        },\n{\n            'v': 60,\n            'f': \"60\",\n        },\n{\n            'v': 105,\n            'f': \"105\",\n        },\n{\n            'v': 125,\n            'f': \"125\",\n        },\n{\n            'v': 353,\n            'f': \"353\",\n        },\n{\n            'v': 0.0,\n            'f': \"0.0\",\n        },\n{\n            'v': 8.0,\n            'f': \"8.0\",\n        }],\n [{\n            'v': 114,\n            'f': \"114\",\n        },\n{\n            'v': 60,\n            'f': \"60\",\n        },\n{\n            'v': 103,\n            'f': \"103\",\n        },\n{\n            'v': 124,\n            'f': \"124\",\n        },\n{\n            'v': 332,\n            'f': \"332\",\n        },\n{\n            'v': 0.0,\n            'f': \"0.0\",\n        },\n{\n            'v': 8.0,\n            'f': \"8.0\",\n        }],\n [{\n            'v': 115,\n            'f': \"115\",\n        },\n{\n            'v': 30,\n            'f': \"30\",\n        },\n{\n            'v': 112,\n            'f': \"112\",\n        },\n{\n            'v': 137,\n            'f': \"137\",\n        },\n{\n            'v': 193,\n            'f': \"193\",\n        },\n{\n            'v': 0.0,\n            'f': \"0.0\",\n        },\n{\n            'v': 8.0,\n            'f': \"8.0\",\n        }],\n [{\n            'v': 116,\n            'f': \"116\",\n        },\n{\n            'v': 45,\n            'f': \"45\",\n        },\n{\n            'v': 100,\n            'f': \"100\",\n        },\n{\n            'v': 120,\n            'f': \"120\",\n        },\n{\n            'v': 100,\n            'f': \"100\",\n        },\n{\n            'v': 0.0,\n            'f': \"0.0\",\n        },\n{\n            'v': 7.5,\n            'f': \"7.5\",\n        }],\n [{\n            'v': 117,\n            'f': \"117\",\n        },\n{\n            'v': 60,\n            'f': \"60\",\n        },\n{\n            'v': 119,\n            'f': \"119\",\n        },\n{\n            'v': 169,\n            'f': \"169\",\n        },\n{\n            'v': 336,\n            'f': \"336\",\n        },\n{\n            'v': 0.0,\n            'f': \"0.0\",\n        },\n{\n            'v': 8.0,\n            'f': \"8.0\",\n        }],\n [{\n            'v': 118,\n            'f': \"118\",\n        },\n{\n            'v': 60,\n            'f': \"60\",\n        },\n{\n            'v': 107,\n            'f': \"107\",\n        },\n{\n            'v': 127,\n            'f': \"127\",\n        },\n{\n            'v': 344,\n            'f': \"344\",\n        },\n{\n            'v': 0.0,\n            'f': \"0.0\",\n        },\n{\n            'v': 8.0,\n            'f': \"8.0\",\n        }],\n [{\n            'v': 119,\n            'f': \"119\",\n        },\n{\n            'v': 60,\n            'f': \"60\",\n        },\n{\n            'v': 111,\n            'f': \"111\",\n        },\n{\n            'v': 151,\n            'f': \"151\",\n        },\n{\n            'v': 368,\n            'f': \"368\",\n        },\n{\n            'v': 0.0,\n            'f': \"0.0\",\n        },\n{\n            'v': 8.0,\n            'f': \"8.0\",\n        }],\n [{\n            'v': 120,\n            'f': \"120\",\n        },\n{\n            'v': 60,\n            'f': \"60\",\n        },\n{\n            'v': 98,\n            'f': \"98\",\n        },\n{\n            'v': 122,\n            'f': \"122\",\n        },\n{\n            'v': 271,\n            'f': \"271\",\n        },\n{\n            'v': 0.0,\n            'f': \"0.0\",\n        },\n{\n            'v': 8.0,\n            'f': \"8.0\",\n        }],\n [{\n            'v': 121,\n            'f': \"121\",\n        },\n{\n            'v': 60,\n            'f': \"60\",\n        },\n{\n            'v': 97,\n            'f': \"97\",\n        },\n{\n            'v': 124,\n            'f': \"124\",\n        },\n{\n            'v': 275,\n            'f': \"275\",\n        },\n{\n            'v': 0.0,\n            'f': \"0.0\",\n        },\n{\n            'v': 8.0,\n            'f': \"8.0\",\n        }],\n [{\n            'v': 122,\n            'f': \"122\",\n        },\n{\n            'v': 60,\n            'f': \"60\",\n        },\n{\n            'v': 109,\n            'f': \"109\",\n        },\n{\n            'v': 127,\n            'f': \"127\",\n        },\n{\n            'v': 382,\n            'f': \"382\",\n        },\n{\n            'v': 0.0,\n            'f': \"0.0\",\n        },\n{\n            'v': 6.0,\n            'f': \"6.0\",\n        }],\n [{\n            'v': 123,\n            'f': \"123\",\n        },\n{\n            'v': 90,\n            'f': \"90\",\n        },\n{\n            'v': 99,\n            'f': \"99\",\n        },\n{\n            'v': 125,\n            'f': \"125\",\n        },\n{\n            'v': 466,\n            'f': \"466\",\n        },\n{\n            'v': 0.0,\n            'f': \"0.0\",\n        },\n{\n            'v': 7.5,\n            'f': \"7.5\",\n        }],\n [{\n            'v': 124,\n            'f': \"124\",\n        },\n{\n            'v': 60,\n            'f': \"60\",\n        },\n{\n            'v': 114,\n            'f': \"114\",\n        },\n{\n            'v': 151,\n            'f': \"151\",\n        },\n{\n            'v': 384,\n            'f': \"384\",\n        },\n{\n            'v': 0.0,\n            'f': \"0.0\",\n        },\n{\n            'v': 12.0,\n            'f': \"12.0\",\n        }],\n [{\n            'v': 125,\n            'f': \"125\",\n        },\n{\n            'v': 60,\n            'f': \"60\",\n        },\n{\n            'v': 104,\n            'f': \"104\",\n        },\n{\n            'v': 134,\n            'f': \"134\",\n        },\n{\n            'v': 342,\n            'f': \"342\",\n        },\n{\n            'v': 0.0,\n            'f': \"0.0\",\n        },\n{\n            'v': 7.5,\n            'f': \"7.5\",\n        }],\n [{\n            'v': 126,\n            'f': \"126\",\n        },\n{\n            'v': 60,\n            'f': \"60\",\n        },\n{\n            'v': 107,\n            'f': \"107\",\n        },\n{\n            'v': 138,\n            'f': \"138\",\n        },\n{\n            'v': 357,\n            'f': \"357\",\n        },\n{\n            'v': 0.0,\n            'f': \"0.0\",\n        },\n{\n            'v': 7.5,\n            'f': \"7.5\",\n        }],\n [{\n            'v': 127,\n            'f': \"127\",\n        },\n{\n            'v': 60,\n            'f': \"60\",\n        },\n{\n            'v': 103,\n            'f': \"103\",\n        },\n{\n            'v': 133,\n            'f': \"133\",\n        },\n{\n            'v': 335,\n            'f': \"335\",\n        },\n{\n            'v': 0.0,\n            'f': \"0.0\",\n        },\n{\n            'v': 7.5,\n            'f': \"7.5\",\n        }],\n [{\n            'v': 128,\n            'f': \"128\",\n        },\n{\n            'v': 60,\n            'f': \"60\",\n        },\n{\n            'v': 106,\n            'f': \"106\",\n        },\n{\n            'v': 132,\n            'f': \"132\",\n        },\n{\n            'v': 327,\n            'f': \"327\",\n        },\n{\n            'v': 0.0,\n            'f': \"0.0\",\n        },\n{\n            'v': 7.5,\n            'f': \"7.5\",\n        }],\n [{\n            'v': 129,\n            'f': \"129\",\n        },\n{\n            'v': 60,\n            'f': \"60\",\n        },\n{\n            'v': 103,\n            'f': \"103\",\n        },\n{\n            'v': 136,\n            'f': \"136\",\n        },\n{\n            'v': 339,\n            'f': \"339\",\n        },\n{\n            'v': 0.0,\n            'f': \"0.0\",\n        },\n{\n            'v': 7.5,\n            'f': \"7.5\",\n        }],\n [{\n            'v': 130,\n            'f': \"130\",\n        },\n{\n            'v': 20,\n            'f': \"20\",\n        },\n{\n            'v': 136,\n            'f': \"136\",\n        },\n{\n            'v': 156,\n            'f': \"156\",\n        },\n{\n            'v': 189,\n            'f': \"189\",\n        },\n{\n            'v': 8.5,\n            'f': \"8.5\",\n        },\n{\n            'v': 7.5,\n            'f': \"7.5\",\n        }],\n [{\n            'v': 131,\n            'f': \"131\",\n        },\n{\n            'v': 45,\n            'f': \"45\",\n        },\n{\n            'v': 117,\n            'f': \"117\",\n        },\n{\n            'v': 143,\n            'f': \"143\",\n        },\n{\n            'v': 317,\n            'f': \"317\",\n        },\n{\n            'v': 0.0,\n            'f': \"0.0\",\n        },\n{\n            'v': 8.0,\n            'f': \"8.0\",\n        }],\n [{\n            'v': 132,\n            'f': \"132\",\n        },\n{\n            'v': 45,\n            'f': \"45\",\n        },\n{\n            'v': 115,\n            'f': \"115\",\n        },\n{\n            'v': 137,\n            'f': \"137\",\n        },\n{\n            'v': 318,\n            'f': \"318\",\n        },\n{\n            'v': 0.0,\n            'f': \"0.0\",\n        },\n{\n            'v': 7.5,\n            'f': \"7.5\",\n        }],\n [{\n            'v': 133,\n            'f': \"133\",\n        },\n{\n            'v': 45,\n            'f': \"45\",\n        },\n{\n            'v': 113,\n            'f': \"113\",\n        },\n{\n            'v': 138,\n            'f': \"138\",\n        },\n{\n            'v': 308,\n            'f': \"308\",\n        },\n{\n            'v': 0.0,\n            'f': \"0.0\",\n        },\n{\n            'v': 7.0,\n            'f': \"7.0\",\n        }],\n [{\n            'v': 134,\n            'f': \"134\",\n        },\n{\n            'v': 20,\n            'f': \"20\",\n        },\n{\n            'v': 141,\n            'f': \"141\",\n        },\n{\n            'v': 162,\n            'f': \"162\",\n        },\n{\n            'v': 222,\n            'f': \"222\",\n        },\n{\n            'v': 0.0,\n            'f': \"0.0\",\n        },\n{\n            'v': 7.5,\n            'f': \"7.5\",\n        }],\n [{\n            'v': 135,\n            'f': \"135\",\n        },\n{\n            'v': 60,\n            'f': \"60\",\n        },\n{\n            'v': 108,\n            'f': \"108\",\n        },\n{\n            'v': 135,\n            'f': \"135\",\n        },\n{\n            'v': 390,\n            'f': \"390\",\n        },\n{\n            'v': 0.0,\n            'f': \"0.0\",\n        },\n{\n            'v': 8.0,\n            'f': \"8.0\",\n        }],\n [{\n            'v': 136,\n            'f': \"136\",\n        },\n{\n            'v': 60,\n            'f': \"60\",\n        },\n{\n            'v': 97,\n            'f': \"97\",\n        },\n{\n            'v': 127,\n            'f': \"127\",\n        },\n{\n            'v': 288,\n            'f': \"288\",\n        },\n{\n            'v': 0.0,\n            'f': \"0.0\",\n        },\n{\n            'v': 8.0,\n            'f': \"8.0\",\n        }],\n [{\n            'v': 137,\n            'f': \"137\",\n        },\n{\n            'v': 45,\n            'f': \"45\",\n        },\n{\n            'v': 100,\n            'f': \"100\",\n        },\n{\n            'v': 120,\n            'f': \"120\",\n        },\n{\n            'v': 250,\n            'f': \"250\",\n        },\n{\n            'v': 0.0,\n            'f': \"0.0\",\n        },\n{\n            'v': 8.0,\n            'f': \"8.0\",\n        }],\n [{\n            'v': 138,\n            'f': \"138\",\n        },\n{\n            'v': 45,\n            'f': \"45\",\n        },\n{\n            'v': 122,\n            'f': \"122\",\n        },\n{\n            'v': 149,\n            'f': \"149\",\n        },\n{\n            'v': 335,\n            'f': \"335\",\n        },\n{\n            'v': 0.0,\n            'f': \"0.0\",\n        },\n{\n            'v': 7.5,\n            'f': \"7.5\",\n        }],\n [{\n            'v': 139,\n            'f': \"139\",\n        },\n{\n            'v': 60,\n            'f': \"60\",\n        },\n{\n            'v': 136,\n            'f': \"136\",\n        },\n{\n            'v': 170,\n            'f': \"170\",\n        },\n{\n            'v': 470,\n            'f': \"470\",\n        },\n{\n            'v': 8.0,\n            'f': \"8.0\",\n        },\n{\n            'v': 8.0,\n            'f': \"8.0\",\n        }],\n [{\n            'v': 140,\n            'f': \"140\",\n        },\n{\n            'v': 45,\n            'f': \"45\",\n        },\n{\n            'v': 106,\n            'f': \"106\",\n        },\n{\n            'v': 126,\n            'f': \"126\",\n        },\n{\n            'v': 270,\n            'f': \"270\",\n        },\n{\n            'v': 8.0,\n            'f': \"8.0\",\n        },\n{\n            'v': 8.0,\n            'f': \"8.0\",\n        }],\n [{\n            'v': 141,\n            'f': \"141\",\n        },\n{\n            'v': 60,\n            'f': \"60\",\n        },\n{\n            'v': 107,\n            'f': \"107\",\n        },\n{\n            'v': 136,\n            'f': \"136\",\n        },\n{\n            'v': 400,\n            'f': \"400\",\n        },\n{\n            'v': 9.5,\n            'f': \"9.5\",\n        },\n{\n            'v': 7.0,\n            'f': \"7.0\",\n        }],\n [{\n            'v': 142,\n            'f': \"142\",\n        },\n{\n            'v': 60,\n            'f': \"60\",\n        },\n{\n            'v': 112,\n            'f': \"112\",\n        },\n{\n            'v': 146,\n            'f': \"146\",\n        },\n{\n            'v': 361,\n            'f': \"361\",\n        },\n{\n            'v': 9.0,\n            'f': \"9.0\",\n        },\n{\n            'v': 7.5,\n            'f': \"7.5\",\n        }],\n [{\n            'v': 143,\n            'f': \"143\",\n        },\n{\n            'v': 30,\n            'f': \"30\",\n        },\n{\n            'v': 103,\n            'f': \"103\",\n        },\n{\n            'v': 127,\n            'f': \"127\",\n        },\n{\n            'v': 185,\n            'f': \"185\",\n        },\n{\n            'v': 9.0,\n            'f': \"9.0\",\n        },\n{\n            'v': 7.5,\n            'f': \"7.5\",\n        }],\n [{\n            'v': 144,\n            'f': \"144\",\n        },\n{\n            'v': 60,\n            'f': \"60\",\n        },\n{\n            'v': 110,\n            'f': \"110\",\n        },\n{\n            'v': 150,\n            'f': \"150\",\n        },\n{\n            'v': 409,\n            'f': \"409\",\n        },\n{\n            'v': 8.0,\n            'f': \"8.0\",\n        },\n{\n            'v': 7.0,\n            'f': \"7.0\",\n        }],\n [{\n            'v': 145,\n            'f': \"145\",\n        },\n{\n            'v': 60,\n            'f': \"60\",\n        },\n{\n            'v': 106,\n            'f': \"106\",\n        },\n{\n            'v': 134,\n            'f': \"134\",\n        },\n{\n            'v': 343,\n            'f': \"343\",\n        },\n{\n            'v': 8.0,\n            'f': \"8.0\",\n        },\n{\n            'v': 8.5,\n            'f': \"8.5\",\n        }],\n [{\n            'v': 146,\n            'f': \"146\",\n        },\n{\n            'v': 60,\n            'f': \"60\",\n        },\n{\n            'v': 109,\n            'f': \"109\",\n        },\n{\n            'v': 129,\n            'f': \"129\",\n        },\n{\n            'v': 353,\n            'f': \"353\",\n        },\n{\n            'v': 8.0,\n            'f': \"8.0\",\n        },\n{\n            'v': 8.0,\n            'f': \"8.0\",\n        }],\n [{\n            'v': 147,\n            'f': \"147\",\n        },\n{\n            'v': 60,\n            'f': \"60\",\n        },\n{\n            'v': 109,\n            'f': \"109\",\n        },\n{\n            'v': 138,\n            'f': \"138\",\n        },\n{\n            'v': 374,\n            'f': \"374\",\n        },\n{\n            'v': 8.0,\n            'f': \"8.0\",\n        },\n{\n            'v': 6.0,\n            'f': \"6.0\",\n        }],\n [{\n            'v': 148,\n            'f': \"148\",\n        },\n{\n            'v': 30,\n            'f': \"30\",\n        },\n{\n            'v': 150,\n            'f': \"150\",\n        },\n{\n            'v': 167,\n            'f': \"167\",\n        },\n{\n            'v': 275,\n            'f': \"275\",\n        },\n{\n            'v': 0.0,\n            'f': \"0.0\",\n        },\n{\n            'v': 9.0,\n            'f': \"9.0\",\n        }],\n [{\n            'v': 149,\n            'f': \"149\",\n        },\n{\n            'v': 60,\n            'f': \"60\",\n        },\n{\n            'v': 105,\n            'f': \"105\",\n        },\n{\n            'v': 128,\n            'f': \"128\",\n        },\n{\n            'v': 328,\n            'f': \"328\",\n        },\n{\n            'v': 9.0,\n            'f': \"9.0\",\n        },\n{\n            'v': 8.0,\n            'f': \"8.0\",\n        }],\n [{\n            'v': 150,\n            'f': \"150\",\n        },\n{\n            'v': 60,\n            'f': \"60\",\n        },\n{\n            'v': 97,\n            'f': \"97\",\n        },\n{\n            'v': 131,\n            'f': \"131\",\n        },\n{\n            'v': 270,\n            'f': \"270\",\n        },\n{\n            'v': 9.0,\n            'f': \"9.0\",\n        },\n{\n            'v': 8.0,\n            'f': \"8.0\",\n        }],\n [{\n            'v': 151,\n            'f': \"151\",\n        },\n{\n            'v': 60,\n            'f': \"60\",\n        },\n{\n            'v': 100,\n            'f': \"100\",\n        },\n{\n            'v': 120,\n            'f': \"120\",\n        },\n{\n            'v': 270,\n            'f': \"270\",\n        },\n{\n            'v': 8.0,\n            'f': \"8.0\",\n        },\n{\n            'v': 8.0,\n            'f': \"8.0\",\n        }],\n [{\n            'v': 152,\n            'f': \"152\",\n        },\n{\n            'v': 60,\n            'f': \"60\",\n        },\n{\n            'v': 114,\n            'f': \"114\",\n        },\n{\n            'v': 150,\n            'f': \"150\",\n        },\n{\n            'v': 382,\n            'f': \"382\",\n        },\n{\n            'v': 0.0,\n            'f': \"0.0\",\n        },\n{\n            'v': 8.0,\n            'f': \"8.0\",\n        }],\n [{\n            'v': 153,\n            'f': \"153\",\n        },\n{\n            'v': 30,\n            'f': \"30\",\n        },\n{\n            'v': 80,\n            'f': \"80\",\n        },\n{\n            'v': 120,\n            'f': \"120\",\n        },\n{\n            'v': 240,\n            'f': \"240\",\n        },\n{\n            'v': 10.0,\n            'f': \"10.0\",\n        },\n{\n            'v': 7.0,\n            'f': \"7.0\",\n        }],\n [{\n            'v': 154,\n            'f': \"154\",\n        },\n{\n            'v': 30,\n            'f': \"30\",\n        },\n{\n            'v': 85,\n            'f': \"85\",\n        },\n{\n            'v': 120,\n            'f': \"120\",\n        },\n{\n            'v': 250,\n            'f': \"250\",\n        },\n{\n            'v': 10.0,\n            'f': \"10.0\",\n        },\n{\n            'v': 7.0,\n            'f': \"7.0\",\n        }],\n [{\n            'v': 155,\n            'f': \"155\",\n        },\n{\n            'v': 45,\n            'f': \"45\",\n        },\n{\n            'v': 90,\n            'f': \"90\",\n        },\n{\n            'v': 130,\n            'f': \"130\",\n        },\n{\n            'v': 260,\n            'f': \"260\",\n        },\n{\n            'v': 8.0,\n            'f': \"8.0\",\n        },\n{\n            'v': 7.0,\n            'f': \"7.0\",\n        }],\n [{\n            'v': 156,\n            'f': \"156\",\n        },\n{\n            'v': 45,\n            'f': \"45\",\n        },\n{\n            'v': 95,\n            'f': \"95\",\n        },\n{\n            'v': 130,\n            'f': \"130\",\n        },\n{\n            'v': 270,\n            'f': \"270\",\n        },\n{\n            'v': 8.0,\n            'f': \"8.0\",\n        },\n{\n            'v': 7.0,\n            'f': \"7.0\",\n        }],\n [{\n            'v': 157,\n            'f': \"157\",\n        },\n{\n            'v': 45,\n            'f': \"45\",\n        },\n{\n            'v': 100,\n            'f': \"100\",\n        },\n{\n            'v': 140,\n            'f': \"140\",\n        },\n{\n            'v': 280,\n            'f': \"280\",\n        },\n{\n            'v': 0.0,\n            'f': \"0.0\",\n        },\n{\n            'v': 7.0,\n            'f': \"7.0\",\n        }],\n [{\n            'v': 158,\n            'f': \"158\",\n        },\n{\n            'v': 60,\n            'f': \"60\",\n        },\n{\n            'v': 105,\n            'f': \"105\",\n        },\n{\n            'v': 140,\n            'f': \"140\",\n        },\n{\n            'v': 290,\n            'f': \"290\",\n        },\n{\n            'v': 7.0,\n            'f': \"7.0\",\n        },\n{\n            'v': 8.0,\n            'f': \"8.0\",\n        }],\n [{\n            'v': 159,\n            'f': \"159\",\n        },\n{\n            'v': 60,\n            'f': \"60\",\n        },\n{\n            'v': 110,\n            'f': \"110\",\n        },\n{\n            'v': 145,\n            'f': \"145\",\n        },\n{\n            'v': 300,\n            'f': \"300\",\n        },\n{\n            'v': 7.0,\n            'f': \"7.0\",\n        },\n{\n            'v': 8.0,\n            'f': \"8.0\",\n        }],\n [{\n            'v': 160,\n            'f': \"160\",\n        },\n{\n            'v': 60,\n            'f': \"60\",\n        },\n{\n            'v': 115,\n            'f': \"115\",\n        },\n{\n            'v': 145,\n            'f': \"145\",\n        },\n{\n            'v': 310,\n            'f': \"310\",\n        },\n{\n            'v': 8.0,\n            'f': \"8.0\",\n        },\n{\n            'v': 8.0,\n            'f': \"8.0\",\n        }],\n [{\n            'v': 161,\n            'f': \"161\",\n        },\n{\n            'v': 75,\n            'f': \"75\",\n        },\n{\n            'v': 120,\n            'f': \"120\",\n        },\n{\n            'v': 150,\n            'f': \"150\",\n        },\n{\n            'v': 320,\n            'f': \"320\",\n        },\n{\n            'v': 0.0,\n            'f': \"0.0\",\n        },\n{\n            'v': 8.0,\n            'f': \"8.0\",\n        }],\n [{\n            'v': 162,\n            'f': \"162\",\n        },\n{\n            'v': 75,\n            'f': \"75\",\n        },\n{\n            'v': 125,\n            'f': \"125\",\n        },\n{\n            'v': 150,\n            'f': \"150\",\n        },\n{\n            'v': 330,\n            'f': \"330\",\n        },\n{\n            'v': 8.0,\n            'f': \"8.0\",\n        },\n{\n            'v': 8.0,\n            'f': \"8.0\",\n        }]],\n        columns: [[\"number\", \"index\"], [\"number\", \"Duration\"], [\"number\", \"Average_Pulse\"], [\"number\", \"Max_Pulse\"], [\"number\", \"Calorie_Burnage\"], [\"number\", \"Hours_Work\"], [\"number\", \"Hours_Sleep\"]],\n        columnOptions: [{\"width\": \"1px\", \"className\": \"index_column\"}],\n        rowsPerPage: 25,\n        helpUrl: \"https://colab.research.google.com/notebooks/data_table.ipynb\",\n        suppressOutputScrolling: true,\n        minimumWidth: undefined,\n      });\n    ",
            "text/html": [
              "<div>\n",
              "<style scoped>\n",
              "    .dataframe tbody tr th:only-of-type {\n",
              "        vertical-align: middle;\n",
              "    }\n",
              "\n",
              "    .dataframe tbody tr th {\n",
              "        vertical-align: top;\n",
              "    }\n",
              "\n",
              "    .dataframe thead th {\n",
              "        text-align: right;\n",
              "    }\n",
              "</style>\n",
              "<table border=\"1\" class=\"dataframe\">\n",
              "  <thead>\n",
              "    <tr style=\"text-align: right;\">\n",
              "      <th></th>\n",
              "      <th>Duration</th>\n",
              "      <th>Average_Pulse</th>\n",
              "      <th>Max_Pulse</th>\n",
              "      <th>Calorie_Burnage</th>\n",
              "      <th>Hours_Work</th>\n",
              "      <th>Hours_Sleep</th>\n",
              "    </tr>\n",
              "  </thead>\n",
              "  <tbody>\n",
              "    <tr>\n",
              "      <th>0</th>\n",
              "      <td>60</td>\n",
              "      <td>110</td>\n",
              "      <td>130</td>\n",
              "      <td>409</td>\n",
              "      <td>0.0</td>\n",
              "      <td>8.0</td>\n",
              "    </tr>\n",
              "    <tr>\n",
              "      <th>1</th>\n",
              "      <td>60</td>\n",
              "      <td>117</td>\n",
              "      <td>145</td>\n",
              "      <td>479</td>\n",
              "      <td>0.0</td>\n",
              "      <td>8.0</td>\n",
              "    </tr>\n",
              "    <tr>\n",
              "      <th>2</th>\n",
              "      <td>60</td>\n",
              "      <td>103</td>\n",
              "      <td>135</td>\n",
              "      <td>340</td>\n",
              "      <td>8.0</td>\n",
              "      <td>7.5</td>\n",
              "    </tr>\n",
              "    <tr>\n",
              "      <th>3</th>\n",
              "      <td>45</td>\n",
              "      <td>109</td>\n",
              "      <td>175</td>\n",
              "      <td>282</td>\n",
              "      <td>8.0</td>\n",
              "      <td>8.0</td>\n",
              "    </tr>\n",
              "    <tr>\n",
              "      <th>4</th>\n",
              "      <td>45</td>\n",
              "      <td>117</td>\n",
              "      <td>148</td>\n",
              "      <td>406</td>\n",
              "      <td>0.0</td>\n",
              "      <td>6.5</td>\n",
              "    </tr>\n",
              "    <tr>\n",
              "      <th>...</th>\n",
              "      <td>...</td>\n",
              "      <td>...</td>\n",
              "      <td>...</td>\n",
              "      <td>...</td>\n",
              "      <td>...</td>\n",
              "      <td>...</td>\n",
              "    </tr>\n",
              "    <tr>\n",
              "      <th>158</th>\n",
              "      <td>60</td>\n",
              "      <td>105</td>\n",
              "      <td>140</td>\n",
              "      <td>290</td>\n",
              "      <td>7.0</td>\n",
              "      <td>8.0</td>\n",
              "    </tr>\n",
              "    <tr>\n",
              "      <th>159</th>\n",
              "      <td>60</td>\n",
              "      <td>110</td>\n",
              "      <td>145</td>\n",
              "      <td>300</td>\n",
              "      <td>7.0</td>\n",
              "      <td>8.0</td>\n",
              "    </tr>\n",
              "    <tr>\n",
              "      <th>160</th>\n",
              "      <td>60</td>\n",
              "      <td>115</td>\n",
              "      <td>145</td>\n",
              "      <td>310</td>\n",
              "      <td>8.0</td>\n",
              "      <td>8.0</td>\n",
              "    </tr>\n",
              "    <tr>\n",
              "      <th>161</th>\n",
              "      <td>75</td>\n",
              "      <td>120</td>\n",
              "      <td>150</td>\n",
              "      <td>320</td>\n",
              "      <td>0.0</td>\n",
              "      <td>8.0</td>\n",
              "    </tr>\n",
              "    <tr>\n",
              "      <th>162</th>\n",
              "      <td>75</td>\n",
              "      <td>125</td>\n",
              "      <td>150</td>\n",
              "      <td>330</td>\n",
              "      <td>8.0</td>\n",
              "      <td>8.0</td>\n",
              "    </tr>\n",
              "  </tbody>\n",
              "</table>\n",
              "<p>163 rows × 6 columns</p>\n",
              "</div>"
            ],
            "text/plain": [
              "     Duration  Average_Pulse  ...  Hours_Work  Hours_Sleep\n",
              "0          60            110  ...         0.0          8.0\n",
              "1          60            117  ...         0.0          8.0\n",
              "2          60            103  ...         8.0          7.5\n",
              "3          45            109  ...         8.0          8.0\n",
              "4          45            117  ...         0.0          6.5\n",
              "..        ...            ...  ...         ...          ...\n",
              "158        60            105  ...         7.0          8.0\n",
              "159        60            110  ...         7.0          8.0\n",
              "160        60            115  ...         8.0          8.0\n",
              "161        75            120  ...         0.0          8.0\n",
              "162        75            125  ...         8.0          8.0\n",
              "\n",
              "[163 rows x 6 columns]"
            ]
          },
          "metadata": {
            "tags": []
          },
          "execution_count": 39
        }
      ]
    },
    {
      "cell_type": "markdown",
      "metadata": {
        "id": "PJ89cMQeFS9t"
      },
      "source": [
        "### Data Vis(usalization) demo"
      ]
    },
    {
      "cell_type": "markdown",
      "metadata": {
        "id": "ImdArGxuP1ST"
      },
      "source": [
        "#### `seaborn` heat map"
      ]
    },
    {
      "cell_type": "code",
      "metadata": {
        "colab": {
          "base_uri": "https://localhost:8080/",
          "height": 325
        },
        "id": "nxVu4Q2TGm0_",
        "outputId": "eb386ef5-42bc-43bb-fc44-51e14ed62379"
      },
      "source": [
        "import seaborn as sns            # Data visualization with seaborn package\n",
        "plt.figure(figsize=(10,5))\n",
        "seaborn_heat_map = sns.heatmap(df.corr(),\n",
        "                               annot=True,\n",
        "                               fmt='.2%',\n",
        "                               cmap='coolwarm')\n",
        "# Among which pair of columns do you find the strongest correlation?"
      ],
      "execution_count": null,
      "outputs": [
        {
          "output_type": "display_data",
          "data": {
            "image/png": "[encoded data removed]",
            "text/plain": [
              "<Figure size 720x360 with 2 Axes>"
            ]
          },
          "metadata": {
            "tags": [],
            "needs_background": "light"
          }
        }
      ]
    },
    {
      "cell_type": "markdown",
      "metadata": {
        "id": "COQvPgFVP6c8"
      },
      "source": [
        "#### `bokeh` histogram"
      ]
    },
    {
      "cell_type": "code",
      "metadata": {
        "colab": {
          "base_uri": "https://localhost:8080/",
          "height": 617
        },
        "id": "ebY7_sFasCoo",
        "outputId": "f926bfc7-bfd7-489c-a988-6446ea52e6d7"
      },
      "source": [
        "import numpy as np\n",
        "from bokeh.io import show, output_notebook\n",
        "from bokeh.plotting import figure\n",
        "output_notebook()\n",
        "\n",
        "data = np.random.normal(0, 0.5, 1000)\n",
        "# hist, edges = np.histogram(data, density=True, bins=10)\n",
        "hist, edges = np.histogram(df['Hours_Sleep'], density=False, bins=10)\n",
        "\n",
        "p = figure()\n",
        "p.quad(top=hist, bottom=0, left=edges[:-1], right=edges[1:], line_color=\"white\")\n",
        "\n",
        "show(p)"
      ],
      "execution_count": null,
      "outputs": [
        {
          "output_type": "display_data",
          "data": {
            "application/javascript": [
              "\n",
              "(function(root) {\n",
              "  function now() {\n",
              "    return new Date();\n",
              "  }\n",
              "\n",
              "  var force = true;\n",
              "\n",
              "  if (typeof root._bokeh_onload_callbacks === \"undefined\" || force === true) {\n",
              "    root._bokeh_onload_callbacks = [];\n",
              "    root._bokeh_is_loading = undefined;\n",
              "  }\n",
              "\n",
              "  var JS_MIME_TYPE = 'application/javascript';\n",
              "  var HTML_MIME_TYPE = 'text/html';\n",
              "  var EXEC_MIME_TYPE = 'application/vnd.bokehjs_exec.v0+json';\n",
              "  var CLASS_NAME = 'output_bokeh rendered_html';\n",
              "\n",
              "  /**\n",
              "   * Render data to the DOM node\n",
              "   */\n",
              "  function render(props, node) {\n",
              "    var script = document.createElement(\"script\");\n",
              "    node.appendChild(script);\n",
              "  }\n",
              "\n",
              "  /**\n",
              "   * Handle when an output is cleared or removed\n",
              "   */\n",
              "  function handleClearOutput(event, handle) {\n",
              "    var cell = handle.cell;\n",
              "\n",
              "    var id = cell.output_area._bokeh_element_id;\n",
              "    var server_id = cell.output_area._bokeh_server_id;\n",
              "    // Clean up Bokeh references\n",
              "    if (id != null && id in Bokeh.index) {\n",
              "      Bokeh.index[id].model.document.clear();\n",
              "      delete Bokeh.index[id];\n",
              "    }\n",
              "\n",
              "    if (server_id !== undefined) {\n",
              "      // Clean up Bokeh references\n",
              "      var cmd = \"from bokeh.io.state import curstate; print(curstate().uuid_to_server['\" + server_id + \"'].get_sessions()[0].document.roots[0]._id)\";\n",
              "      cell.notebook.kernel.execute(cmd, {\n",
              "        iopub: {\n",
              "          output: function(msg) {\n",
              "            var id = msg.content.text.trim();\n",
              "            if (id in Bokeh.index) {\n",
              "              Bokeh.index[id].model.document.clear();\n",
              "              delete Bokeh.index[id];\n",
              "            }\n",
              "          }\n",
              "        }\n",
              "      });\n",
              "      // Destroy server and session\n",
              "      var cmd = \"import bokeh.io.notebook as ion; ion.destroy_server('\" + server_id + \"')\";\n",
              "      cell.notebook.kernel.execute(cmd);\n",
              "    }\n",
              "  }\n",
              "\n",
              "  /**\n",
              "   * Handle when a new output is added\n",
              "   */\n",
              "  function handleAddOutput(event, handle) {\n",
              "    var output_area = handle.output_area;\n",
              "    var output = handle.output;\n",
              "\n",
              "    // limit handleAddOutput to display_data with EXEC_MIME_TYPE content only\n",
              "    if ((output.output_type != \"display_data\") || (!Object.prototype.hasOwnProperty.call(output.data, EXEC_MIME_TYPE))) {\n",
              "      return\n",
              "    }\n",
              "\n",
              "    var toinsert = output_area.element.find(\".\" + CLASS_NAME.split(' ')[0]);\n",
              "\n",
              "    if (output.metadata[EXEC_MIME_TYPE][\"id\"] !== undefined) {\n",
              "      toinsert[toinsert.length - 1].firstChild.textContent = output.data[JS_MIME_TYPE];\n",
              "      // store reference to embed id on output_area\n",
              "      output_area._bokeh_element_id = output.metadata[EXEC_MIME_TYPE][\"id\"];\n",
              "    }\n",
              "    if (output.metadata[EXEC_MIME_TYPE][\"server_id\"] !== undefined) {\n",
              "      var bk_div = document.createElement(\"div\");\n",
              "      bk_div.innerHTML = output.data[HTML_MIME_TYPE];\n",
              "      var script_attrs = bk_div.children[0].attributes;\n",
              "      for (var i = 0; i < script_attrs.length; i++) {\n",
              "        toinsert[toinsert.length - 1].firstChild.setAttribute(script_attrs[i].name, script_attrs[i].value);\n",
              "        toinsert[toinsert.length - 1].firstChild.textContent = bk_div.children[0].textContent\n",
              "      }\n",
              "      // store reference to server id on output_area\n",
              "      output_area._bokeh_server_id = output.metadata[EXEC_MIME_TYPE][\"server_id\"];\n",
              "    }\n",
              "  }\n",
              "\n",
              "  function register_renderer(events, OutputArea) {\n",
              "\n",
              "    function append_mime(data, metadata, element) {\n",
              "      // create a DOM node to render to\n",
              "      var toinsert = this.create_output_subarea(\n",
              "        metadata,\n",
              "        CLASS_NAME,\n",
              "        EXEC_MIME_TYPE\n",
              "      );\n",
              "      this.keyboard_manager.register_events(toinsert);\n",
              "      // Render to node\n",
              "      var props = {data: data, metadata: metadata[EXEC_MIME_TYPE]};\n",
              "      render(props, toinsert[toinsert.length - 1]);\n",
              "      element.append(toinsert);\n",
              "      return toinsert\n",
              "    }\n",
              "\n",
              "    /* Handle when an output is cleared or removed */\n",
              "    events.on('clear_output.CodeCell', handleClearOutput);\n",
              "    events.on('delete.Cell', handleClearOutput);\n",
              "\n",
              "    /* Handle when a new output is added */\n",
              "    events.on('output_added.OutputArea', handleAddOutput);\n",
              "\n",
              "    /**\n",
              "     * Register the mime type and append_mime function with output_area\n",
              "     */\n",
              "    OutputArea.prototype.register_mime_type(EXEC_MIME_TYPE, append_mime, {\n",
              "      /* Is output safe? */\n",
              "      safe: true,\n",
              "      /* Index of renderer in `output_area.display_order` */\n",
              "      index: 0\n",
              "    });\n",
              "  }\n",
              "\n",
              "  // register the mime type if in Jupyter Notebook environment and previously unregistered\n",
              "  if (root.Jupyter !== undefined) {\n",
              "    var events = require('base/js/events');\n",
              "    var OutputArea = require('notebook/js/outputarea').OutputArea;\n",
              "\n",
              "    if (OutputArea.prototype.mime_types().indexOf(EXEC_MIME_TYPE) == -1) {\n",
              "      register_renderer(events, OutputArea);\n",
              "    }\n",
              "  }\n",
              "\n",
              "  \n",
              "  if (typeof (root._bokeh_timeout) === \"undefined\" || force === true) {\n",
              "    root._bokeh_timeout = Date.now() + 5000;\n",
              "    root._bokeh_failed_load = false;\n",
              "  }\n",
              "\n",
              "  var NB_LOAD_WARNING = {'data': {'text/html':\n",
              "     \"<div style='background-color: #fdd'>\\n\"+\n",
              "     \"<p>\\n\"+\n",
              "     \"BokehJS does not appear to have successfully loaded. If loading BokehJS from CDN, this \\n\"+\n",
              "     \"may be due to a slow or bad network connection. Possible fixes:\\n\"+\n",
              "     \"</p>\\n\"+\n",
              "     \"<ul>\\n\"+\n",
              "     \"<li>re-rerun `output_notebook()` to attempt to load from CDN again, or</li>\\n\"+\n",
              "     \"<li>use INLINE resources instead, as so:</li>\\n\"+\n",
              "     \"</ul>\\n\"+\n",
              "     \"<code>\\n\"+\n",
              "     \"from bokeh.resources import INLINE\\n\"+\n",
              "     \"output_notebook(resources=INLINE)\\n\"+\n",
              "     \"</code>\\n\"+\n",
              "     \"</div>\"}};\n",
              "\n",
              "  function display_loaded() {\n",
              "    var el = document.getElementById(null);\n",
              "    if (el != null) {\n",
              "      el.textContent = \"BokehJS is loading...\";\n",
              "    }\n",
              "    if (root.Bokeh !== undefined) {\n",
              "      if (el != null) {\n",
              "        el.textContent = \"BokehJS \" + root.Bokeh.version + \" successfully loaded.\";\n",
              "      }\n",
              "    } else if (Date.now() < root._bokeh_timeout) {\n",
              "      setTimeout(display_loaded, 100)\n",
              "    }\n",
              "  }\n",
              "\n",
              "\n",
              "  function run_callbacks() {\n",
              "    try {\n",
              "      root._bokeh_onload_callbacks.forEach(function(callback) {\n",
              "        if (callback != null)\n",
              "          callback();\n",
              "      });\n",
              "    } finally {\n",
              "      delete root._bokeh_onload_callbacks\n",
              "    }\n",
              "    console.debug(\"Bokeh: all callbacks have finished\");\n",
              "  }\n",
              "\n",
              "  function load_libs(css_urls, js_urls, callback) {\n",
              "    if (css_urls == null) css_urls = [];\n",
              "    if (js_urls == null) js_urls = [];\n",
              "\n",
              "    root._bokeh_onload_callbacks.push(callback);\n",
              "    if (root._bokeh_is_loading > 0) {\n",
              "      console.debug(\"Bokeh: BokehJS is being loaded, scheduling callback at\", now());\n",
              "      return null;\n",
              "    }\n",
              "    if (js_urls == null || js_urls.length === 0) {\n",
              "      run_callbacks();\n",
              "      return null;\n",
              "    }\n",
              "    console.debug(\"Bokeh: BokehJS not loaded, scheduling load and callback at\", now());\n",
              "    root._bokeh_is_loading = css_urls.length + js_urls.length;\n",
              "\n",
              "    function on_load() {\n",
              "      root._bokeh_is_loading--;\n",
              "      if (root._bokeh_is_loading === 0) {\n",
              "        console.debug(\"Bokeh: all BokehJS libraries/stylesheets loaded\");\n",
              "        run_callbacks()\n",
              "      }\n",
              "    }\n",
              "\n",
              "    function on_error(url) {\n",
              "      console.error(\"failed to load \" + url);\n",
              "    }\n",
              "\n",
              "    for (let i = 0; i < css_urls.length; i++) {\n",
              "      const url = css_urls[i];\n",
              "      const element = document.createElement(\"link\");\n",
              "      element.onload = on_load;\n",
              "      element.onerror = on_error.bind(null, url);\n",
              "      element.rel = \"stylesheet\";\n",
              "      element.type = \"text/css\";\n",
              "      element.href = url;\n",
              "      console.debug(\"Bokeh: injecting link tag for BokehJS stylesheet: \", url);\n",
              "      document.body.appendChild(element);\n",
              "    }\n",
              "\n",
              "    const hashes = {\"https://cdn.bokeh.org/bokeh/release/bokeh-2.3.3.min.js\": \"dM3QQsP+wXdHg42wTqW85BjZQdLNNIXqlPw/BgKoExPmTG7ZLML4EGqLMfqHT6ON\", \"https://cdn.bokeh.org/bokeh/release/bokeh-tables-2.3.3.min.js\": \"8x57I4YuIfu8XyZfFo0XVr2WAT8EK4rh/uDe3wF7YuW2FNUSNEpJbsPaB1nJ2fz2\", \"https://cdn.bokeh.org/bokeh/release/bokeh-widgets-2.3.3.min.js\": \"3QTqdz9LyAm2i0sG5XTePsHec3UHWwVsrOL68SYRoAXsafvfAyqtQ+h440+qIBhS\"};\n",
              "\n",
              "    for (let i = 0; i < js_urls.length; i++) {\n",
              "      const url = js_urls[i];\n",
              "      const element = document.createElement('script');\n",
              "      element.onload = on_load;\n",
              "      element.onerror = on_error.bind(null, url);\n",
              "      element.async = false;\n",
              "      element.src = url;\n",
              "      if (url in hashes) {\n",
              "        element.crossOrigin = \"anonymous\";\n",
              "        element.integrity = \"sha384-\" + hashes[url];\n",
              "      }\n",
              "      console.debug(\"Bokeh: injecting script tag for BokehJS library: \", url);\n",
              "      document.head.appendChild(element);\n",
              "    }\n",
              "  };\n",
              "\n",
              "  function inject_raw_css(css) {\n",
              "    const element = document.createElement(\"style\");\n",
              "    element.appendChild(document.createTextNode(css));\n",
              "    document.body.appendChild(element);\n",
              "  }\n",
              "\n",
              "  \n",
              "  var js_urls = [\"https://cdn.bokeh.org/bokeh/release/bokeh-2.3.3.min.js\", \"https://cdn.bokeh.org/bokeh/release/bokeh-widgets-2.3.3.min.js\", \"https://cdn.bokeh.org/bokeh/release/bokeh-tables-2.3.3.min.js\"];\n",
              "  var css_urls = [];\n",
              "  \n",
              "\n",
              "  var inline_js = [\n",
              "    function(Bokeh) {\n",
              "      Bokeh.set_log_level(\"info\");\n",
              "    },\n",
              "    function(Bokeh) {\n",
              "    \n",
              "    \n",
              "    }\n",
              "  ];\n",
              "\n",
              "  function run_inline_js() {\n",
              "    \n",
              "    if (root.Bokeh !== undefined || force === true) {\n",
              "      \n",
              "    for (var i = 0; i < inline_js.length; i++) {\n",
              "      inline_js[i].call(root, root.Bokeh);\n",
              "    }\n",
              "    } else if (Date.now() < root._bokeh_timeout) {\n",
              "      setTimeout(run_inline_js, 100);\n",
              "    } else if (!root._bokeh_failed_load) {\n",
              "      console.log(\"Bokeh: BokehJS failed to load within specified timeout.\");\n",
              "      root._bokeh_failed_load = true;\n",
              "    } else if (force !== true) {\n",
              "      var cell = $(document.getElementById(null)).parents('.cell').data().cell;\n",
              "      cell.output_area.append_execute_result(NB_LOAD_WARNING)\n",
              "    }\n",
              "\n",
              "  }\n",
              "\n",
              "  if (root._bokeh_is_loading === 0) {\n",
              "    console.debug(\"Bokeh: BokehJS loaded, going straight to plotting\");\n",
              "    run_inline_js();\n",
              "  } else {\n",
              "    load_libs(css_urls, js_urls, function() {\n",
              "      console.debug(\"Bokeh: BokehJS plotting callback run at\", now());\n",
              "      run_inline_js();\n",
              "    });\n",
              "  }\n",
              "}(window));"
            ],
            "application/vnd.bokehjs_load.v0+json": "\n(function(root) {\n  function now() {\n    return new Date();\n  }\n\n  var force = true;\n\n  if (typeof root._bokeh_onload_callbacks === \"undefined\" || force === true) {\n    root._bokeh_onload_callbacks = [];\n    root._bokeh_is_loading = undefined;\n  }\n\n  \n\n  \n  if (typeof (root._bokeh_timeout) === \"undefined\" || force === true) {\n    root._bokeh_timeout = Date.now() + 5000;\n    root._bokeh_failed_load = false;\n  }\n\n  var NB_LOAD_WARNING = {'data': {'text/html':\n     \"<div style='background-color: #fdd'>\\n\"+\n     \"<p>\\n\"+\n     \"BokehJS does not appear to have successfully loaded. If loading BokehJS from CDN, this \\n\"+\n     \"may be due to a slow or bad network connection. Possible fixes:\\n\"+\n     \"</p>\\n\"+\n     \"<ul>\\n\"+\n     \"<li>re-rerun `output_notebook()` to attempt to load from CDN again, or</li>\\n\"+\n     \"<li>use INLINE resources instead, as so:</li>\\n\"+\n     \"</ul>\\n\"+\n     \"<code>\\n\"+\n     \"from bokeh.resources import INLINE\\n\"+\n     \"output_notebook(resources=INLINE)\\n\"+\n     \"</code>\\n\"+\n     \"</div>\"}};\n\n  function display_loaded() {\n    var el = document.getElementById(null);\n    if (el != null) {\n      el.textContent = \"BokehJS is loading...\";\n    }\n    if (root.Bokeh !== undefined) {\n      if (el != null) {\n        el.textContent = \"BokehJS \" + root.Bokeh.version + \" successfully loaded.\";\n      }\n    } else if (Date.now() < root._bokeh_timeout) {\n      setTimeout(display_loaded, 100)\n    }\n  }\n\n\n  function run_callbacks() {\n    try {\n      root._bokeh_onload_callbacks.forEach(function(callback) {\n        if (callback != null)\n          callback();\n      });\n    } finally {\n      delete root._bokeh_onload_callbacks\n    }\n    console.debug(\"Bokeh: all callbacks have finished\");\n  }\n\n  function load_libs(css_urls, js_urls, callback) {\n    if (css_urls == null) css_urls = [];\n    if (js_urls == null) js_urls = [];\n\n    root._bokeh_onload_callbacks.push(callback);\n    if (root._bokeh_is_loading > 0) {\n      console.debug(\"Bokeh: BokehJS is being loaded, scheduling callback at\", now());\n      return null;\n    }\n    if (js_urls == null || js_urls.length === 0) {\n      run_callbacks();\n      return null;\n    }\n    console.debug(\"Bokeh: BokehJS not loaded, scheduling load and callback at\", now());\n    root._bokeh_is_loading = css_urls.length + js_urls.length;\n\n    function on_load() {\n      root._bokeh_is_loading--;\n      if (root._bokeh_is_loading === 0) {\n        console.debug(\"Bokeh: all BokehJS libraries/stylesheets loaded\");\n        run_callbacks()\n      }\n    }\n\n    function on_error(url) {\n      console.error(\"failed to load \" + url);\n    }\n\n    for (let i = 0; i < css_urls.length; i++) {\n      const url = css_urls[i];\n      const element = document.createElement(\"link\");\n      element.onload = on_load;\n      element.onerror = on_error.bind(null, url);\n      element.rel = \"stylesheet\";\n      element.type = \"text/css\";\n      element.href = url;\n      console.debug(\"Bokeh: injecting link tag for BokehJS stylesheet: \", url);\n      document.body.appendChild(element);\n    }\n\n    const hashes = {\"https://cdn.bokeh.org/bokeh/release/bokeh-2.3.3.min.js\": \"dM3QQsP+wXdHg42wTqW85BjZQdLNNIXqlPw/BgKoExPmTG7ZLML4EGqLMfqHT6ON\", \"https://cdn.bokeh.org/bokeh/release/bokeh-tables-2.3.3.min.js\": \"8x57I4YuIfu8XyZfFo0XVr2WAT8EK4rh/uDe3wF7YuW2FNUSNEpJbsPaB1nJ2fz2\", \"https://cdn.bokeh.org/bokeh/release/bokeh-widgets-2.3.3.min.js\": \"3QTqdz9LyAm2i0sG5XTePsHec3UHWwVsrOL68SYRoAXsafvfAyqtQ+h440+qIBhS\"};\n\n    for (let i = 0; i < js_urls.length; i++) {\n      const url = js_urls[i];\n      const element = document.createElement('script');\n      element.onload = on_load;\n      element.onerror = on_error.bind(null, url);\n      element.async = false;\n      element.src = url;\n      if (url in hashes) {\n        element.crossOrigin = \"anonymous\";\n        element.integrity = \"sha384-\" + hashes[url];\n      }\n      console.debug(\"Bokeh: injecting script tag for BokehJS library: \", url);\n      document.head.appendChild(element);\n    }\n  };\n\n  function inject_raw_css(css) {\n    const element = document.createElement(\"style\");\n    element.appendChild(document.createTextNode(css));\n    document.body.appendChild(element);\n  }\n\n  \n  var js_urls = [\"https://cdn.bokeh.org/bokeh/release/bokeh-2.3.3.min.js\", \"https://cdn.bokeh.org/bokeh/release/bokeh-widgets-2.3.3.min.js\", \"https://cdn.bokeh.org/bokeh/release/bokeh-tables-2.3.3.min.js\"];\n  var css_urls = [];\n  \n\n  var inline_js = [\n    function(Bokeh) {\n      Bokeh.set_log_level(\"info\");\n    },\n    function(Bokeh) {\n    \n    \n    }\n  ];\n\n  function run_inline_js() {\n    \n    if (root.Bokeh !== undefined || force === true) {\n      \n    for (var i = 0; i < inline_js.length; i++) {\n      inline_js[i].call(root, root.Bokeh);\n    }\n    } else if (Date.now() < root._bokeh_timeout) {\n      setTimeout(run_inline_js, 100);\n    } else if (!root._bokeh_failed_load) {\n      console.log(\"Bokeh: BokehJS failed to load within specified timeout.\");\n      root._bokeh_failed_load = true;\n    } else if (force !== true) {\n      var cell = $(document.getElementById(null)).parents('.cell').data().cell;\n      cell.output_area.append_execute_result(NB_LOAD_WARNING)\n    }\n\n  }\n\n  if (root._bokeh_is_loading === 0) {\n    console.debug(\"Bokeh: BokehJS loaded, going straight to plotting\");\n    run_inline_js();\n  } else {\n    load_libs(css_urls, js_urls, function() {\n      console.debug(\"Bokeh: BokehJS plotting callback run at\", now());\n      run_inline_js();\n    });\n  }\n}(window));"
          },
          "metadata": {
            "tags": []
          }
        },
        {
          "output_type": "display_data",
          "data": {
            "text/html": [
              "\n",
              "\n",
              "\n",
              "\n",
              "\n",
              "\n",
              "  <div class=\"bk-root\" id=\"811f35b5-4f2e-4004-8f0a-27691c4dc532\" data-root-id=\"5789\"></div>\n"
            ]
          },
          "metadata": {
            "tags": []
          }
        },
        {
          "output_type": "display_data",
          "data": {
            "application/javascript": [
              "(function(root) {\n",
              "  function embed_document(root) {\n",
              "    \n",
              "  var docs_json = {\"ed38fba7-3d1e-45a2-9bb4-77013d477a2c\":{\"defs\":[],\"roots\":{\"references\":[{\"attributes\":{\"below\":[{\"id\":\"5798\"}],\"center\":[{\"id\":\"5801\"},{\"id\":\"5805\"}],\"left\":[{\"id\":\"5802\"}],\"renderers\":[{\"id\":\"5823\"}],\"title\":{\"id\":\"5991\"},\"toolbar\":{\"id\":\"5813\"},\"x_range\":{\"id\":\"5790\"},\"x_scale\":{\"id\":\"5794\"},\"y_range\":{\"id\":\"5792\"},\"y_scale\":{\"id\":\"5796\"}},\"id\":\"5789\",\"subtype\":\"Figure\",\"type\":\"Plot\"},{\"attributes\":{},\"id\":\"5792\",\"type\":\"DataRange1d\"},{\"attributes\":{},\"id\":\"5997\",\"type\":\"BasicTickFormatter\"},{\"attributes\":{},\"id\":\"5806\",\"type\":\"PanTool\"},{\"attributes\":{\"formatter\":{\"id\":\"5994\"},\"major_label_policy\":{\"id\":\"5992\"},\"ticker\":{\"id\":\"5803\"}},\"id\":\"5802\",\"type\":\"LinearAxis\"},{\"attributes\":{\"active_multi\":null,\"tools\":[{\"id\":\"5806\"},{\"id\":\"5807\"},{\"id\":\"5808\"},{\"id\":\"5809\"},{\"id\":\"5810\"},{\"id\":\"5811\"}]},\"id\":\"5813\",\"type\":\"Toolbar\"},{\"attributes\":{},\"id\":\"5803\",\"type\":\"BasicTicker\"},{\"attributes\":{\"axis\":{\"id\":\"5802\"},\"dimension\":1,\"ticker\":null},\"id\":\"5805\",\"type\":\"Grid\"},{\"attributes\":{\"data\":{\"left\":{\"__ndarray__\":\"AAAAAAAAFEDNzMzMzMwWQJqZmZmZmRlAZmZmZmZmHEAzMzMzMzMfQAAAAAAAACFAZmZmZmZmIkDMzMzMzMwjQDMzMzMzMyVAmpmZmZmZJkA=\",\"dtype\":\"float64\",\"order\":\"little\",\"shape\":[10]},\"right\":{\"__ndarray__\":\"zczMzMzMFkCamZmZmZkZQGZmZmZmZhxAMzMzMzMzH0AAAAAAAAAhQGZmZmZmZiJAzMzMzMzMI0AzMzMzMzMlQJqZmZmZmSZAAAAAAAAAKEA=\",\"dtype\":\"float64\",\"order\":\"little\",\"shape\":[10]},\"top\":[1,5,32,28,91,5,0,0,0,1]},\"selected\":{\"id\":\"6000\"},\"selection_policy\":{\"id\":\"5999\"}},\"id\":\"5820\",\"type\":\"ColumnDataSource\"},{\"attributes\":{\"axis\":{\"id\":\"5798\"},\"ticker\":null},\"id\":\"5801\",\"type\":\"Grid\"},{\"attributes\":{},\"id\":\"5995\",\"type\":\"AllLabels\"},{\"attributes\":{\"bottom\":{\"value\":0},\"fill_alpha\":{\"value\":0.1},\"fill_color\":{\"value\":\"#1f77b4\"},\"left\":{\"field\":\"left\"},\"line_alpha\":{\"value\":0.1},\"line_color\":{\"value\":\"white\"},\"right\":{\"field\":\"right\"},\"top\":{\"field\":\"top\"}},\"id\":\"5822\",\"type\":\"Quad\"},{\"attributes\":{},\"id\":\"5799\",\"type\":\"BasicTicker\"},{\"attributes\":{\"formatter\":{\"id\":\"5997\"},\"major_label_policy\":{\"id\":\"5995\"},\"ticker\":{\"id\":\"5799\"}},\"id\":\"5798\",\"type\":\"LinearAxis\"},{\"attributes\":{\"overlay\":{\"id\":\"5812\"}},\"id\":\"5808\",\"type\":\"BoxZoomTool\"},{\"attributes\":{},\"id\":\"5810\",\"type\":\"ResetTool\"},{\"attributes\":{\"data_source\":{\"id\":\"5820\"},\"glyph\":{\"id\":\"5821\"},\"hover_glyph\":null,\"muted_glyph\":null,\"nonselection_glyph\":{\"id\":\"5822\"},\"view\":{\"id\":\"5824\"}},\"id\":\"5823\",\"type\":\"GlyphRenderer\"},{\"attributes\":{},\"id\":\"5794\",\"type\":\"LinearScale\"},{\"attributes\":{},\"id\":\"5994\",\"type\":\"BasicTickFormatter\"},{\"attributes\":{\"source\":{\"id\":\"5820\"}},\"id\":\"5824\",\"type\":\"CDSView\"},{\"attributes\":{},\"id\":\"5811\",\"type\":\"HelpTool\"},{\"attributes\":{},\"id\":\"5809\",\"type\":\"SaveTool\"},{\"attributes\":{},\"id\":\"5999\",\"type\":\"UnionRenderers\"},{\"attributes\":{},\"id\":\"5991\",\"type\":\"Title\"},{\"attributes\":{},\"id\":\"6000\",\"type\":\"Selection\"},{\"attributes\":{\"bottom\":{\"value\":0},\"fill_color\":{\"value\":\"#1f77b4\"},\"left\":{\"field\":\"left\"},\"line_color\":{\"value\":\"white\"},\"right\":{\"field\":\"right\"},\"top\":{\"field\":\"top\"}},\"id\":\"5821\",\"type\":\"Quad\"},{\"attributes\":{},\"id\":\"5790\",\"type\":\"DataRange1d\"},{\"attributes\":{},\"id\":\"5796\",\"type\":\"LinearScale\"},{\"attributes\":{},\"id\":\"5807\",\"type\":\"WheelZoomTool\"},{\"attributes\":{\"bottom_units\":\"screen\",\"fill_alpha\":0.5,\"fill_color\":\"lightgrey\",\"left_units\":\"screen\",\"level\":\"overlay\",\"line_alpha\":1.0,\"line_color\":\"black\",\"line_dash\":[4,4],\"line_width\":2,\"right_units\":\"screen\",\"syncable\":false,\"top_units\":\"screen\"},\"id\":\"5812\",\"type\":\"BoxAnnotation\"},{\"attributes\":{},\"id\":\"5992\",\"type\":\"AllLabels\"}],\"root_ids\":[\"5789\"]},\"title\":\"Bokeh Application\",\"version\":\"2.3.3\"}};\n",
              "  var render_items = [{\"docid\":\"ed38fba7-3d1e-45a2-9bb4-77013d477a2c\",\"root_ids\":[\"5789\"],\"roots\":{\"5789\":\"811f35b5-4f2e-4004-8f0a-27691c4dc532\"}}];\n",
              "  root.Bokeh.embed.embed_items_notebook(docs_json, render_items);\n",
              "\n",
              "  }\n",
              "  if (root.Bokeh !== undefined) {\n",
              "    embed_document(root);\n",
              "  } else {\n",
              "    var attempts = 0;\n",
              "    var timer = setInterval(function(root) {\n",
              "      if (root.Bokeh !== undefined) {\n",
              "        clearInterval(timer);\n",
              "        embed_document(root);\n",
              "      } else {\n",
              "        attempts++;\n",
              "        if (attempts > 100) {\n",
              "          clearInterval(timer);\n",
              "          console.log(\"Bokeh: ERROR: Unable to run BokehJS code because BokehJS library is missing\");\n",
              "        }\n",
              "      }\n",
              "    }, 10, root)\n",
              "  }\n",
              "})(window);"
            ],
            "application/vnd.bokehjs_exec.v0+json": ""
          },
          "metadata": {
            "tags": [],
            "application/vnd.bokehjs_exec.v0+json": {
              "id": "5789"
            }
          }
        }
      ]
    },
    {
      "cell_type": "markdown",
      "metadata": {
        "id": "h9n3f7dLFa_0"
      },
      "source": [
        "### ML (machine learning) demo"
      ]
    },
    {
      "cell_type": "markdown",
      "metadata": {
        "id": "dl4GFJe7RwCU"
      },
      "source": [
        "#### Train model & make prediction"
      ]
    },
    {
      "cell_type": "code",
      "metadata": {
        "colab": {
          "base_uri": "https://localhost:8080/",
          "height": 70
        },
        "id": "roMdH-VgDJjB",
        "outputId": "626b98e1-df5e-40cb-cbab-74b9a8a0aa97"
      },
      "source": [
        "x_label = 'Duration'         # What outcome do we expect from this pair of input/output?\n",
        "y_label = 'Calorie_Burnage'\n",
        "\n",
        "# x_label = 'Hours_Work'       # What outcome do we expect from this pair of input/output?\n",
        "# y_label = 'Max_Pulse'\n",
        "\n",
        "x_train = df[x_label]\n",
        "y_train = df[y_label]\n",
        "\n",
        "# Train linear regression model\n",
        "slope, intercept, r, p, std_err = stats.linregress(x_train, y_train)\n",
        "\n",
        "def linear_regression_model(x):\n",
        "    return slope * x + intercept\n",
        "\n",
        "x_model = x_train\n",
        "y_model = list(map(linear_regression_model, x_model))\n",
        "\n",
        "# Make a single prediction\n",
        "x_prediction = 250\n",
        "y_prediction = int(linear_regression_model(x_prediction))\n",
        "printmd(f'Input: **{x_prediction}**')  # f-string + Markdown print\n",
        "printmd(f'Predicted output: **{y_prediction}**')\n",
        "\n",
        "# How to make multiple predictions all at once? Hint:\n",
        "# x_prediction = [250]\n",
        "# y_prediction = list(map(linear_regression_model, x_prediction))\n",
        "# print(y_prediction[0])"
      ],
      "execution_count": null,
      "outputs": [
        {
          "output_type": "display_data",
          "data": {
            "text/markdown": "Input: **250**",
            "text/plain": [
              "<IPython.core.display.Markdown object>"
            ]
          },
          "metadata": {
            "tags": []
          }
        },
        {
          "output_type": "display_data",
          "data": {
            "text/markdown": "Predicted output: **1434**",
            "text/plain": [
              "<IPython.core.display.Markdown object>"
            ]
          },
          "metadata": {
            "tags": []
          }
        }
      ]
    },
    {
      "cell_type": "markdown",
      "metadata": {
        "id": "Fp9LAap5RopX"
      },
      "source": [
        "#### `matplotlib` scatter & line plot"
      ]
    },
    {
      "cell_type": "code",
      "metadata": {
        "colab": {
          "base_uri": "https://localhost:8080/",
          "height": 283
        },
        "id": "kz_b72pTQKVU",
        "outputId": "a7360a3d-823a-4f21-a17e-6d10f91eef13"
      },
      "source": [
        "# Visualize prediction results\n",
        "import matplotlib.pyplot as plt  # Data visualization with matplotlib package\n",
        "X_MAX = 400    # Soft-coded \"constants\"\n",
        "Y_MAX = 2000\n",
        "fig, ax = plt.subplots()\n",
        "\n",
        "# Draw plot\n",
        "ax.scatter(x_train, y_train, c='blue')           # Training data\n",
        "ax.plot(x_model, y_model, c='green')             # Model = straight line (\"linear regression\")\n",
        "ax.scatter(x_prediction, y_prediction, c='red')  # Prediction made\n",
        "ax.legend(['model', 'train', 'prediction'])\n",
        "ax.axhline(y=y_prediction, xmax=x_prediction/X_MAX, c='red')  # Crosshair lines\n",
        "ax.axvline(x=x_prediction, ymax=y_prediction/Y_MAX, c='red')\n",
        "ax.grid(True)\n",
        "\n",
        "# Configure/show plot\n",
        "plt.ylim(ymin=0, ymax=Y_MAX)\n",
        "plt.xlim(xmin=0, xmax=X_MAX)\n",
        "plt.xlabel(x_label)\n",
        "plt.ylabel (y_label)\n",
        "plt.show()"
      ],
      "execution_count": null,
      "outputs": [
        {
          "output_type": "display_data",
          "data": {
            "image/png": "[encoded data removed]",
            "text/plain": [
              "<Figure size 432x288 with 1 Axes>"
            ]
          },
          "metadata": {
            "tags": [],
            "needs_background": "light"
          }
        }
      ]
    },
    {
      "cell_type": "markdown",
      "metadata": {
        "id": "CZAfoDxJvkmv"
      },
      "source": [
        "## Go beyond"
      ]
    },
    {
      "cell_type": "markdown",
      "metadata": {
        "id": "iOCsiWHuvoHO"
      },
      "source": [
        "- More advanced models/algo(rithms) (polynomial regression, decision tree, random forest, gradiant boost...)\n",
        "- Bigger data (SQL/no-SQL databases, APIs, Spark/Hadoop big data solutions...)\n",
        "- Less structured data (NLP, CV, social media...)\n",
        "- Deeper dive into  Python\n",
        "- More customized tool chain (local/team IDE/runtime)\n",
        "- Commercial grade data vis platforms (Power BI, Tableau...)"
      ]
    }
  ]
}